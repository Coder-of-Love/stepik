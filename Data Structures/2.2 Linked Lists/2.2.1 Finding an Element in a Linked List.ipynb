{
 "cells": [
  {
   "cell_type": "markdown",
   "metadata": {},
   "source": [
    "Write a function find(Node* node, int element) that starts at the given node and either returns true if the element exists somewhere in the Linked List, otherwise false if the element does not exist in the Linked List. You may choose to implement it either iteratively or recursively: we will pass in the head node when we call your find function, so both approaches have equally valid solutions.\n",
    "\n",
    "If you wish to solve the problem in Python, below is the equivalent Singly Linked List Node﻿ Python class defined for you:\n",
    "\n",
    "class Node:\n",
    "    def __init__(self):\n",
    "        self.value = None\n",
    "        self.next = None"
   ]
  },
  {
   "cell_type": "code",
   "execution_count": null,
   "metadata": {},
   "outputs": [],
   "source": [
    "# мое, влоб\n",
    "def find(node, element):\n",
    "    cur = node\n",
    "    while cur:\n",
    "        if cur.value == element:\n",
    "            return True\n",
    "        cur = cur.next\n",
    "    return False"
   ]
  },
  {
   "cell_type": "code",
   "execution_count": null,
   "metadata": {},
   "outputs": [],
   "source": [
    "# чужое, с предположительно меньшей сложностью кода\n",
    "def find(node, element):\n",
    "    return node.value == element or (node.next != None and find(node.next, element))"
   ]
  }
 ],
 "metadata": {
  "kernelspec": {
   "display_name": "Python 3",
   "language": "python",
   "name": "python3"
  },
  "language_info": {
   "codemirror_mode": {
    "name": "ipython",
    "version": 3
   },
   "file_extension": ".py",
   "mimetype": "text/x-python",
   "name": "python",
   "nbconvert_exporter": "python",
   "pygments_lexer": "ipython3",
   "version": "3.7.3"
  }
 },
 "nbformat": 4,
 "nbformat_minor": 2
}
