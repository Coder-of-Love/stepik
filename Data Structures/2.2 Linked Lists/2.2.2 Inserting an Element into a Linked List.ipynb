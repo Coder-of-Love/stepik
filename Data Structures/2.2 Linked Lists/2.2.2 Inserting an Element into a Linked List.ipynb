{
 "cells": [
  {
   "cell_type": "markdown",
   "metadata": {},
   "source": [
    "Write a function insert(Node* head, Node* newnode, int index) that inserts newnode into index index of the Linked List. We guarantee that we will not have you insert at the very beginning nor the very end of the Linked List (so you won't need to worry about updating the head or tail pointers of the Linked List).\n",
    "\n",
    "If you wish to solve the problem in Python, below is the equivalent Singly Linked List Node﻿ Python class defined for you:\n",
    "\n",
    "class Node:\n",
    "    def __init__(self):\n",
    "        self.value = None\n",
    "        self.next = None"
   ]
  },
  {
   "cell_type": "code",
   "execution_count": null,
   "metadata": {},
   "outputs": [],
   "source": [
    "def insert(head, newnode, index):\n",
    "    cur = head\n",
    "    i = 0\n",
    "    while cur.next and i != index - 1:\n",
    "        cur = cur.next\n",
    "        i += 1\n",
    "    tmp = cur.next\n",
    "    cur.next = newnode\n",
    "    newnode.next = tmp"
   ]
  }
 ],
 "metadata": {
  "kernelspec": {
   "display_name": "Python 3",
   "language": "python",
   "name": "python3"
  },
  "language_info": {
   "codemirror_mode": {
    "name": "ipython",
    "version": 3
   },
   "file_extension": ".py",
   "mimetype": "text/x-python",
   "name": "python",
   "nbconvert_exporter": "python",
   "pygments_lexer": "ipython3",
   "version": "3.7.3"
  }
 },
 "nbformat": 4,
 "nbformat_minor": 2
}
