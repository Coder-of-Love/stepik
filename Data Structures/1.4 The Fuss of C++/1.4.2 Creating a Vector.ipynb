{
 "cells": [
  {
   "cell_type": "markdown",
   "metadata": {},
   "source": [
    "Given an integer n, create a new vector, add all of the numbers from 1 to n (inclusive) to the vector, and then return the vector.\n",
    "\n",
    "For the Python version of this challenge, you should return a list of integers."
   ]
  },
  {
   "cell_type": "code",
   "execution_count": null,
   "metadata": {},
   "outputs": [],
   "source": [
    "# мое\n",
    "def createVector(n):\n",
    "    return [_ for _ in range(1, n+1)]"
   ]
  },
  {
   "cell_type": "code",
   "execution_count": null,
   "metadata": {},
   "outputs": [],
   "source": [
    "# мое, навеяно https://www.geeksforgeeks.org/range-to-a-list-in-python/\n",
    "def createVector(n):\n",
    "    return [*range(1, n+1)]"
   ]
  },
  {
   "cell_type": "code",
   "execution_count": null,
   "metadata": {},
   "outputs": [],
   "source": [
    "# мое, навеяно https://www.geeksforgeeks.org/range-to-a-list-in-python/\n",
    "def createVector(n):\n",
    "    res = []\n",
    "    res.extend(range(1, n + 1))\n",
    "    return res"
   ]
  },
  {
   "cell_type": "code",
   "execution_count": null,
   "metadata": {},
   "outputs": [],
   "source": [
    "# чужое, влоб\n",
    "def createVector(n):\n",
    "    vector = []\n",
    "    for i in range(1,n+1):\n",
    "        vector.append(i)\n",
    "    return vector"
   ]
  }
 ],
 "metadata": {
  "kernelspec": {
   "display_name": "Python 3",
   "language": "python",
   "name": "python3"
  },
  "language_info": {
   "codemirror_mode": {
    "name": "ipython",
    "version": 3
   },
   "file_extension": ".py",
   "mimetype": "text/x-python",
   "name": "python",
   "nbconvert_exporter": "python",
   "pygments_lexer": "ipython3",
   "version": "3.7.3"
  }
 },
 "nbformat": 4,
 "nbformat_minor": 2
}
