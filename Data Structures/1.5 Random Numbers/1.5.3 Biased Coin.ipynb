{
 "cells": [
  {
   "cell_type": "markdown",
   "metadata": {},
   "source": [
    "CODE CHALLENGE: Using the C++ random number generator rand(), implement a biased coin that outputs 1 with probability p and 0 with probability 1–p. Do not seed the random number generator within the function you will be implementing! We will seed the random number generator for you. If the notion of a \"biased coin\" is unclear to you, be sure to read about the Bernoulli distribution for more information.\n",
    "\n",
    "Hint: If you need help using rand(), either refer to the C++ Reference, or look at the examples on the previous step.\n",
    "\n",
    "Note: In the Sample Input, the 1 on the top line represents how many times we will run your code. It is for grading purposes, so please ignore it. The bottom line is p.\n",
    "\n",
    "For the Python version of the challenge, I have implemented an identical rand() function that you are able to use. Just like the C++ function, it returns an integer between 0 and the variable RAND_MAX (which you can also use)."
   ]
  },
  {
   "cell_type": "code",
   "execution_count": null,
   "metadata": {},
   "outputs": [],
   "source": [
    "# мое, через случайный выбор из \"коробки с красными и синими шарами\"\n",
    "def flipCoin(p):\n",
    "    arr = [1 for _ in range(1, int(p*10) + 1)] + [0 for _ in range(1, int((1 - p)*10) + 1)]\n",
    "    index = rand() % len(arr)\n",
    "    return arr[index]"
   ]
  },
  {
   "cell_type": "code",
   "execution_count": null,
   "metadata": {},
   "outputs": [],
   "source": [
    "# Niema Moshiri, автор\n",
    "\"\"\"\n",
    "rand() returns a (uniformly) random integer between 0 and RAND_MAX. \n",
    "Therefore, rand()/RAND_MAX will return a (uniformly) random number between 0 and 1. \n",
    "Recall that int(True) is 1 and int(False) is 0, so if that random value between 0 and 1 is less than p \n",
    "(i.e., the result of the comparison is True), we return 1, and if it's greater than p \n",
    "(i.e., the result of the comparison is False), we return 0\n",
    "\"\"\"\n",
    "def flipCoin(p):\n",
    "    return int(rand()/RAND_MAX < p)"
   ]
  },
  {
   "cell_type": "code",
   "execution_count": null,
   "metadata": {},
   "outputs": [],
   "source": [
    "# чужое, как мое, но в 1 строку\n",
    "def flipCoin(p):\n",
    "    return ([1]*int(10*p) + [0]*int(10*(1-p)))[rand()%10]"
   ]
  },
  {
   "cell_type": "code",
   "execution_count": null,
   "metadata": {},
   "outputs": [],
   "source": [
    "# чужое, через numpy\n",
    "import numpy as np\n",
    "def flipCoin(p):\n",
    "    x = np.random.binomial(1.0,p)\n",
    "    return x"
   ]
  }
 ],
 "metadata": {
  "kernelspec": {
   "display_name": "Python 3",
   "language": "python",
   "name": "python3"
  },
  "language_info": {
   "codemirror_mode": {
    "name": "ipython",
    "version": 3
   },
   "file_extension": ".py",
   "mimetype": "text/x-python",
   "name": "python",
   "nbconvert_exporter": "python",
   "pygments_lexer": "ipython3",
   "version": "3.7.3"
  }
 },
 "nbformat": 4,
 "nbformat_minor": 2
}
