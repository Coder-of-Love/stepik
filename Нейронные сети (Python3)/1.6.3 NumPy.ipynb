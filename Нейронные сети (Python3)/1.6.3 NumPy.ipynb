{
 "cells": [
  {
   "cell_type": "markdown",
   "metadata": {},
   "source": [
    "Задача: перемножьте две матрицы!\n",
    "\n",
    "На вход программе подаются две матрицы, каждая в следующем формате: на первой строке два целых положительных числа n и m, разделенных пробелом - размерность матрицы. В следующей строке находится n⋅m целых чисел, разделенных пробелами - элементы матрицы. Подразумевается, что матрица заполняется построчно, то есть первые m чисел - первый ряд матрицы, числа от m+1 до 2⋅m - второй, и т.д.\n",
    "\n",
    "Напечатайте произведение матриц $XY^T$, если они имеют подходящую форму, или строку \"matrix shapes do not match\", если формы матриц не совпадают должным образом. \n",
    "\n",
    "В этот раз мы проделали за вас подготовительную работу по считыванию матриц (когда вы начнёте решать, этот код будет уже написан):\n",
    "\n",
    "x_shape = tuple(map(int, input().split()))\n",
    "X = np.fromiter(map(int, input().split()), np.int).reshape(x_shape)\n",
    " Несколько комментариев:\n",
    "\n",
    "map(f, iterable, …) — встроенная функция языка Python, возвращает результат поэлементного применения функции f к элементам последовательности iterable; если f принимает несколько аргументов, то на вход должно быть подано соответствующее число последовательностей: результатом map(f, x, y, z) будет итератор, возвращающий поочерёдно f(x[0], y[0], z[0]), f(x[1], y[1], z[1]), f(x[2], y[2], z[2]) и так далее; результат применения f к очередному набору аргументов вычисляется только тогда, когда требуется использовать этот результат, но не ранее, подробнее и короче в справке;\n",
    "np.fromiter создаёт NumPy-массив из итератора, то есть заставляет итератор вычислить все доступные значения и сохраняет их в массив;\n",
    "input() — встроенная функция языка Python, читает одну строку (последовательность символов вплоть до символа переноса строки) из входного потока данных и возвращает её как строку;\n",
    "split() — метод класса string, возвращает список слов в строке (здесь слова — последовательности символов, разделённые пробельными символами); принимает дополнительные аргументы, подробнее в справке.\n",
    "\n",
    "Sample Input 1:\n",
    "2 3\n",
    "8 7 7 14 4 6\n",
    "4 3\n",
    "5 5 1 5 2 6 3 3 9 1 4 6\n",
    "\n",
    "Sample Output 1:\n",
    "[[ 82  96 108  78]\n",
    " [ 96 114 108  66]]\n",
    " \n",
    "Sample Input 2:\n",
    "2 3\n",
    "5 9 9 10 8 9\n",
    "3 4\n",
    "6 11 3 5 4 5 3 2 5 8 2 2\n",
    "\n",
    "Sample Output 2:\n",
    "matrix shapes do not match"
   ]
  },
  {
   "cell_type": "code",
   "execution_count": null,
   "metadata": {},
   "outputs": [],
   "source": [
    "#мое, через try/except\n",
    "\n",
    "import numpy as np\n",
    "\n",
    "x_shape = tuple(map(int, input().split()))\n",
    "X = np.fromiter(map(int, input().split()), np.int).reshape(x_shape)\n",
    "y_shape = tuple(map(int, input().split()))\n",
    "Y = np.fromiter(map(int, input().split()), np.int).reshape(y_shape)\n",
    "\n",
    "try:\n",
    "    print(np.dot(X,Y.T))\n",
    "except:\n",
    "    print(\"matrix shapes do not match\")"
   ]
  },
  {
   "cell_type": "code",
   "execution_count": null,
   "metadata": {},
   "outputs": [],
   "source": [
    "#чужое, через if/else\n",
    "\n",
    "print(X.dot(Y.T)) if x_shape[1] == y_shape[1] else print(\"matrix shapes do not match\")"
   ]
  }
 ],
 "metadata": {
  "kernelspec": {
   "display_name": "Python 3",
   "language": "python",
   "name": "python3"
  },
  "language_info": {
   "codemirror_mode": {
    "name": "ipython",
    "version": 3
   },
   "file_extension": ".py",
   "mimetype": "text/x-python",
   "name": "python",
   "nbconvert_exporter": "python",
   "pygments_lexer": "ipython3",
   "version": "3.6.1"
  }
 },
 "nbformat": 4,
 "nbformat_minor": 2
}
