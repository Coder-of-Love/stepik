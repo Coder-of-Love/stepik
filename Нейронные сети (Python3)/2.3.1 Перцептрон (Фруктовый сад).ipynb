{
 "cells": [
  {
   "cell_type": "markdown",
   "metadata": {},
   "source": [
    "Мы погуляли в фруктовом саду и собрали следующие данные про несколько обнаруженных там фруктов:\n",
    "\n",
    "  | желтизна | симметричность | это груша?\n",
    " 1|    1     |        0.3     |     да\n",
    " 2|    0.4   |        0.5     |     да\n",
    " 3|    0.7   |        0.8     |     нет\n",
    "\n",
    "Пусть у нас есть перцептрон с весами (0, 0) и смещением 0. \n",
    "\n",
    "Обучите его на приведённых данных различать груши и не груши (пока не надо обучать до сходимости: просто примените обучающее правило последовательно по одному разу на каждом примере, всего у вас получится 3 последовательных применения обучающего правила). \n",
    "\n",
    "Напишите в ответе через запятую получившиеся у вас смещение, вес для желтизны фрукта и вес для его симметричности (только итоговые, не надо писать результаты каждого шага)."
   ]
  },
  {
   "cell_type": "code",
   "execution_count": 8,
   "metadata": {},
   "outputs": [
    {
     "name": "stdout",
     "output_type": "stream",
     "text": [
      "ex: [1.  0.3 1. ]\n",
      "example: [1.  0.3 1. ]\n",
      "p: 0.0\n",
      "ex: [0.4 0.5 1. ]\n",
      "example: [0.4 0.5 1. ]\n",
      "p: 1.55\n",
      "ex: [0.7 0.8 0. ]\n",
      "example: [0.7 0.8 0. ]\n",
      "p: 0.94\n",
      "iterational weights: [ 0.3 -0.5  1. ]\n",
      "ex: [1.  0.3 1. ]\n",
      "example: [1.  0.3 1. ]\n",
      "p: 1.1500000000000001\n",
      "ex: [0.4 0.5 1. ]\n",
      "example: [0.4 0.5 1. ]\n",
      "p: 0.87\n",
      "ex: [0.7 0.8 0. ]\n",
      "example: [0.7 0.8 0. ]\n",
      "p: -0.19\n",
      "iterational weights: [ 0.3 -0.5  1. ]\n",
      "final weights: [ 0.3 -0.5  1. ]\n"
     ]
    }
   ],
   "source": [
    "import numpy as np\n",
    "\n",
    "def Target(ex):\n",
    "    if ex[0] == 1 and ex[1] == 0.3:\n",
    "        return 1\n",
    "    elif ex[0] == 0.4 and ex[1] == 0.5:\n",
    "        return 1\n",
    "    elif ex[0] == 0.7 and ex[1] == 0.8:\n",
    "        return 0\n",
    "    \n",
    "def Predict(ex, w):\n",
    "    p = w.dot(ex)\n",
    "    print(\"example:\", ex)\n",
    "    print(\"p:\", p)\n",
    "    return 1*(p > 0)\n",
    "\n",
    "examples = np.array([[1, 0.3, 1], [0.4, 0.5, 1], [0.7, 0.8, 0]])\n",
    "weights = np.array([0, 0, 0], dtype=float)\n",
    "\n",
    "ok = False\n",
    "while not ok:\n",
    "    ok = True\n",
    "    for ex in examples:\n",
    "        print(\"ex:\", ex)\n",
    "        pr = Predict(ex, weights)\n",
    "        tg = Target(ex)\n",
    "        if pr != tg:\n",
    "            ok = False\n",
    "            if pr < tg:\n",
    "                weights += ex\n",
    "            else:\n",
    "                weights -= ex\n",
    "    print(\"iterational weights:\", weights)\n",
    "    \n",
    "print(\"final weights:\", weights)"
   ]
  }
 ],
 "metadata": {
  "kernelspec": {
   "display_name": "Python 3",
   "language": "python",
   "name": "python3"
  },
  "language_info": {
   "codemirror_mode": {
    "name": "ipython",
    "version": 3
   },
   "file_extension": ".py",
   "mimetype": "text/x-python",
   "name": "python",
   "nbconvert_exporter": "python",
   "pygments_lexer": "ipython3",
   "version": "3.6.1"
  }
 },
 "nbformat": 4,
 "nbformat_minor": 2
}
