{
 "cells": [
  {
   "cell_type": "markdown",
   "metadata": {},
   "source": [
    "Найдите оптимальные коэффициенты для построения линейной регрессии.\n",
    "\n",
    "На вход вашему решению будет подано название csv-файла, из которого нужно считать данные. Пример можно посмотреть здесь. Загрузить их можно следующим образом:\n",
    "\n",
    "fname = input()  # read file name from stdin\n",
    "f = urllib.request.urlopen(fname)  # open file from URL\n",
    "data = np.loadtxt(f, delimiter=',', skiprows=1)  # load data to work with\n",
    "Ваша задача — подсчитать вектор коэффициентов линейной регрессии для предсказания первой переменной (первого столбца данных) по всем остальным. Напомним, что модель линейной регрессии — это y=β0+β1x1+⋯+βnxn.\n",
    "\n",
    "Напечатайте коэффициенты линейной регрессии, начиная с β0, через пробел. Мы будем проверять совпадения с точностью до 4 знаков после запятой.\n",
    "\n",
    "Методы и приёмы, которые мы ещё не упоминали и которые могут вам помочь в процессе решения (могут являться подсказками!):\n",
    "\n",
    "np.hstack((array1, array2, ...))  # склеивает по строкам массивы, являющиеся компонентами кортежа, поданного на вход; массивы должны совпадать по всем измерениям, кроме второго\n",
    "np.ones_like(array)  # создаёт массив, состоящий из единиц, идентичный по форме массиву array\n",
    "\"delim\".join(array)  # возвращает строку, состоящую из элементов array, разделённых символами \"delim\"\n",
    "map(str, array)  # применяет функцию str к каждому элементу array\n",
    "\n",
    "Sample Input:\n",
    "https://stepic.org/media/attachments/lesson/16462/boston_houses.csv\n",
    "\n",
    "Sample Output:\n",
    "-3.65580428507 -0.216395502369 0.0737305981755 4.41245057691 -25.4684487841 7.14320155075 -1.30108767765"
   ]
  },
  {
   "cell_type": "code",
   "execution_count": 76,
   "metadata": {},
   "outputs": [
    {
     "name": "stdout",
     "output_type": "stream",
     "text": [
      "-3.655804285060753 -0.21639550236914 0.07373059817548988 4.412450576912782 -25.46844878410154 7.1432015507460624 -1.3010876776491835\n"
     ]
    }
   ],
   "source": [
    "#мое\n",
    "\n",
    "import urllib\n",
    "import numpy as np\n",
    "\n",
    "#fname = \"https://stepic.org/media/attachments/lesson/16462/boston_houses.csv\"\n",
    "fname = input()\n",
    "f = urllib.request.urlopen(fname)\n",
    "data = np.loadtxt(f, delimiter=',', skiprows=1)\n",
    "\n",
    "feats = np.c_[np.ones_like(data[:,0]), data[:,1:]]\n",
    "pred = data[:,0]\n",
    "\n",
    "sol = ((np.linalg.inv(feats.T.dot(feats))).dot(feats.T)).dot(pred)\n",
    "print(*sol)"
   ]
  },
  {
   "cell_type": "code",
   "execution_count": null,
   "metadata": {},
   "outputs": [],
   "source": [
    "#чужое, самое чистое\n",
    "\n",
    "from urllib.request import urlopen\n",
    "import numpy as np\n",
    "\n",
    "X = np.loadtxt(urlopen(input()), skiprows=1, delimiter=',')\n",
    "Y = X[:, 0].copy()\n",
    "X[:, 0] = 1\n",
    "print(*np.linalg.inv(X.T @ X) @ X.T @ Y)"
   ]
  },
  {
   "cell_type": "code",
   "execution_count": null,
   "metadata": {},
   "outputs": [],
   "source": [
    "#чужое, интересное\n",
    "\n",
    "import requests\n",
    "import numpy as np\n",
    "\n",
    "\n",
    "def read_csv(csv_url):\n",
    "    \"\"\"\n",
    "    Reads data from a CSV (comma-delimited) file at the specified URL\n",
    "    into a ndarray.\n",
    "    \"\"\"\n",
    "    resp = requests.get(csv_url)\n",
    "    data = np.loadtxt(resp.iter_lines(), skiprows=1, delimiter=',')\n",
    "\n",
    "    return data\n",
    "\n",
    "\n",
    "def get_target_vec(data):\n",
    "    \"\"\"Gets the value vector of the target variable from the ndarray.\"\"\"\n",
    "    return data[:, 0].reshape(-1, 1)\n",
    "\n",
    "\n",
    "def get_observation_matrix(data, target_vec):\n",
    "    \"\"\"\n",
    "    Creates a matrix of factors observation and adds a column of ones\n",
    "    to it.\n",
    "    \"\"\"\n",
    "    a = np.ones_like(y)\n",
    "    b = data[:, 1:]\n",
    "    observation_matrix = np.hstack((a, b))\n",
    "\n",
    "    return observation_matrix\n",
    "\n",
    "\n",
    "def calc_beta_hat(X, y):\n",
    "    \"\"\"Calculates the coefficient estimation vector.\"\"\"\n",
    "    return np.linalg.inv(X.T.dot(X)).dot(X.T).dot(y)\n",
    "\n",
    "\n",
    "if __name__ == \"__main__\":\n",
    "    csv_url = input().rstrip()\n",
    "    data = read_csv(csv_url)\n",
    "\n",
    "    y = get_target_vec(data)\n",
    "    X = get_observation_matrix(data, y)\n",
    "\n",
    "    beta_hat = calc_beta_hat(X, y)\n",
    "\n",
    "    print(\" \".join(map(str, beta_hat.flatten())))"
   ]
  }
 ],
 "metadata": {
  "kernelspec": {
   "display_name": "Python 3",
   "language": "python",
   "name": "python3"
  },
  "language_info": {
   "codemirror_mode": {
    "name": "ipython",
    "version": 3
   },
   "file_extension": ".py",
   "mimetype": "text/x-python",
   "name": "python",
   "nbconvert_exporter": "python",
   "pygments_lexer": "ipython3",
   "version": "3.6.1"
  }
 },
 "nbformat": 4,
 "nbformat_minor": 2
}
