{
 "cells": [
  {
   "cell_type": "markdown",
   "metadata": {},
   "source": [
    "Создайте и напечатайте (с помощью функции print) массив класса np.ndarray ширины 4 и высоты 3 с двойками на главной диагонали и единицами на первой диагонали над главной, т.е. воплощение матрицы\n",
    "\n",
    "                                                   2 1 0 0\n",
    "                                                   0 2 1 0\n",
    "                                                   0 0 2 1"
   ]
  },
  {
   "cell_type": "code",
   "execution_count": null,
   "metadata": {},
   "outputs": [],
   "source": [
    "#мое, через операции с матрицами\n",
    "\n",
    "import numpy as np\n",
    "\n",
    "print(np.eye(3, 4)*2 + np.eye(3,4,1))"
   ]
  },
  {
   "cell_type": "code",
   "execution_count": null,
   "metadata": {},
   "outputs": [],
   "source": [
    "#чужое, хитрый способ получить сложность 1.0\n",
    "\n",
    "import numpy as np\n",
    "print('[[ 2.  1.  0.  0.]', ' [ 0.  2.  1.  0.]', ' [ 0.  0.  2.  1.]]', sep='\\n')"
   ]
  },
  {
   "cell_type": "code",
   "execution_count": null,
   "metadata": {},
   "outputs": [],
   "source": [
    "#чужое, через преобразование массива\n",
    "\n",
    "import numpy as np\n",
    "\n",
    "lst  = [2,1,0,0,0] * 3\n",
    "arr = np.array(lst[:12]).reshape(3,4)\n",
    "print(arr)"
   ]
  },
  {
   "cell_type": "code",
   "execution_count": null,
   "metadata": {},
   "outputs": [],
   "source": [
    "#чужое, через ф-цию roll\n",
    "\n",
    "from numpy import *\n",
    "print(array([roll([2,1,0,0],i) for i in range(3)]))"
   ]
  },
  {
   "cell_type": "code",
   "execution_count": null,
   "metadata": {},
   "outputs": [],
   "source": [
    "#чужое, через ф-цию fill_diagonal\n",
    "\n",
    "import numpy as np\n",
    "ar = np.eye(3,4,1)\n",
    "np.fill_diagonal(ar, 2)\n",
    "print(ar)"
   ]
  },
  {
   "cell_type": "code",
   "execution_count": null,
   "metadata": {},
   "outputs": [],
   "source": [
    "#чужое, через цикл\n",
    "\n",
    "import numpy as np\n",
    "ar = np.eye(3, 4, k = 1)\n",
    "for i in range(3):\n",
    "    ar[i, i] = 2\n",
    "print(ar)"
   ]
  }
 ],
 "metadata": {
  "kernelspec": {
   "display_name": "Python 3",
   "language": "python",
   "name": "python3"
  },
  "language_info": {
   "codemirror_mode": {
    "name": "ipython",
    "version": 3
   },
   "file_extension": ".py",
   "mimetype": "text/x-python",
   "name": "python",
   "nbconvert_exporter": "python",
   "pygments_lexer": "ipython3",
   "version": "3.6.1"
  }
 },
 "nbformat": 4,
 "nbformat_minor": 2
}
