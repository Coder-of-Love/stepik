{
 "cells": [
  {
   "cell_type": "markdown",
   "metadata": {},
   "source": [
    "Задача: считайте данные из файла и посчитайте их средние значения.\n",
    "\n",
    "На вход вашему решению будет подан адрес, по которому расположен csv-файл, из которого нужно считать данные. Первая строчка в файле — названия столбцов, остальные строки — числовые данные (то есть каждая строка, кроме первой, состоит из последовательности вещественных чисел, разделённых запятыми).\n",
    "\n",
    "Посчитайте и напечатайте вектор из средних значений вдоль столбцов входных данных. То есть если файл с входными данными выглядит как\n",
    "\n",
    "a,b,c,d\n",
    "1.5,3,4,6\n",
    "2.5,2,7.5,4\n",
    "3.5,1,3.5,2\n",
    "то ответом будет\n",
    "\n",
    "[ 2.5  2.   5.   4. ]\n",
    "Как упоминалось на предыдущем шаге, в качестве файла для loadtxt можно передать объект файла. Это удобно в таких случаях, как сейчас: когда данные лежат не на вашем компьютере, а где-то в сети. Как их скачать из сети? С помощью стандартных библиотек:\n",
    "\n",
    "//>>> from urllib.request import urlopen\n",
    "//>>> f = urlopen('https://stepic.org/media/attachments/lesson/16462/boston_houses.csv')\n",
    "\n",
    "Теперь в f содержится объект файла, который можно передать в loadtxt.\n",
    "\n",
    "Sample Input:\n",
    "https://stepic.org/media/attachments/lesson/16462/boston_houses.csv\n",
    "\n",
    "Sample Output:\n",
    "[ 22.53280632   3.61352356  11.36363636   0.06916996   0.55469506\n",
    "   6.28463439   3.79504269]"
   ]
  },
  {
   "cell_type": "code",
   "execution_count": 4,
   "metadata": {},
   "outputs": [
    {
     "name": "stdout",
     "output_type": "stream",
     "text": [
      "[22.532806324110677, 3.613523557312254, 11.363636363636363, 0.0691699604743083, 0.5546950592885376, 6.284634387351779, 3.795042687747036]\n"
     ]
    }
   ],
   "source": [
    "#мое, через average\n",
    "\n",
    "from urllib.request import urlopen\n",
    "import numpy as np\n",
    "\n",
    "#filename = input()\n",
    "f = urlopen('https://stepic.org/media/attachments/lesson/16462/boston_houses.csv')\n",
    "\n",
    "data = np.loadtxt(f, skiprows = 1, delimiter = ',')\n",
    "res = [np.average(j) for j in data.T]\n",
    "\n",
    "print(res)"
   ]
  },
  {
   "cell_type": "code",
   "execution_count": null,
   "metadata": {},
   "outputs": [],
   "source": [
    "#чужое, через библиотеку Pandas\n",
    "\n",
    "#import numpy as np\n",
    "import pandas as pd\n",
    "\n",
    "#df = pd.read_csv(input())\n",
    "print(pd.read_csv(input()).mean(axis=0).values)"
   ]
  },
  {
   "cell_type": "code",
   "execution_count": null,
   "metadata": {},
   "outputs": [],
   "source": [
    "#чужое, через mean\n",
    "\n",
    "print(np.loadtxt(f, skiprows=1, delimiter=\",\").mean(axis = 0))"
   ]
  },
  {
   "cell_type": "code",
   "execution_count": null,
   "metadata": {},
   "outputs": [],
   "source": [
    "#чужое, с классическим синтаксисом\n",
    "\n",
    "with urlopen(input()) as f:\n",
    "    print(np.loadtxt(f, skiprows=1, delimiter=',').mean(axis=0))"
   ]
  }
 ],
 "metadata": {
  "kernelspec": {
   "display_name": "Python 3",
   "language": "python",
   "name": "python3"
  },
  "language_info": {
   "codemirror_mode": {
    "name": "ipython",
    "version": 3
   },
   "file_extension": ".py",
   "mimetype": "text/x-python",
   "name": "python",
   "nbconvert_exporter": "python",
   "pygments_lexer": "ipython3",
   "version": "3.6.1"
  }
 },
 "nbformat": 4,
 "nbformat_minor": 2
}
