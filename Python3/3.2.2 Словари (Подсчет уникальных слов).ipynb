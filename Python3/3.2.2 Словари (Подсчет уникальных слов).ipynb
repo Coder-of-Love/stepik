{
 "cells": [
  {
   "cell_type": "markdown",
   "metadata": {},
   "source": [
    "Когда Антон прочитал «Войну и мир», ему стало интересно, сколько слов и в каком количестве используется в этой книге.\n",
    "\n",
    "Помогите Антону написать упрощённую версию такой программы, которая сможет подсчитать слова, разделённые пробелом и вывести получившуюся статистику.\n",
    "\n",
    "Программа должна считывать одну строку со стандартного ввода и выводить для каждого уникального слова в этой строке число его повторений (без учёта регистра) в формате \"слово количество\" (см. пример вывода). \n",
    "Порядок вывода слов может быть произвольным, каждое уникальное слово должно выводиться только один раз.\n",
    "\n",
    "Sample Input 1:\n",
    "a aa abC aa ac abc bcd a\n",
    "\n",
    "Sample Output 1:\n",
    "ac 1\n",
    "a 2\n",
    "abc 2\n",
    "bcd 1\n",
    "aa 2\n",
    "\n",
    "Sample Input 2:\n",
    "a A a\n",
    "\n",
    "Sample Output 2:\n",
    "a 3"
   ]
  },
  {
   "cell_type": "code",
   "execution_count": null,
   "metadata": {},
   "outputs": [],
   "source": [
    "#мое, с лишними действиями и переменными\n",
    "\n",
    "def count_words(s):\n",
    "    s_low = s.lower().split()\n",
    "    s_dict = {}\n",
    "    \n",
    "    for word in s_low:\n",
    "        s_dict[word] = s_low.count(word)\n",
    "        \n",
    "    for word, key in s_dict.items():\n",
    "        print(word, key)\n",
    "    \n",
    "if __name__ == \"__main__\":\n",
    "    s = input()\n",
    "    count_words(s)"
   ]
  },
  {
   "cell_type": "code",
   "execution_count": null,
   "metadata": {},
   "outputs": [],
   "source": [
    "#чужое, самое популярное, оптимизированное\n",
    "\n",
    "s = input().lower().split()\n",
    "for i in set(s):\n",
    "    print(i, s.count(i))"
   ]
  },
  {
   "cell_type": "code",
   "execution_count": null,
   "metadata": {},
   "outputs": [],
   "source": [
    "#чужое\n",
    "\n",
    "x = [i for i in input().lower().split()]\n",
    "a = {i:x.count(i)for i in x}\n",
    "for i,j in a.items():\n",
    "    print(i,j)"
   ]
  },
  {
   "cell_type": "code",
   "execution_count": null,
   "metadata": {},
   "outputs": [],
   "source": [
    "#чужое, с форматированным выводом\n",
    "\n",
    "w = input().lower().split()\n",
    "print(*['%s %s' %(x, w.count(x)) for x in set(w)], sep='\\n')"
   ]
  },
  {
   "cell_type": "code",
   "execution_count": null,
   "metadata": {},
   "outputs": [],
   "source": [
    "#чужое, в лоб\n",
    "\n",
    "text = input().lower().split()\n",
    "dictionary = dict()\n",
    "for word in text:\n",
    "    if(word not in dictionary):\n",
    "        dictionary[word] = 1\n",
    "    else:\n",
    "        dictionary[word]+=1\n",
    "for word, count in dictionary.items():\n",
    "    print(word, count)"
   ]
  },
  {
   "cell_type": "code",
   "execution_count": null,
   "metadata": {},
   "outputs": [],
   "source": [
    "#чужое, минималистичное\n",
    "\n",
    "a = input().lower().split()\n",
    "b = set(a)\n",
    "\n",
    "for i in b:\n",
    "    print(f\"{i} {a.count(i)}\")"
   ]
  }
 ],
 "metadata": {
  "kernelspec": {
   "display_name": "Python 3",
   "language": "python",
   "name": "python3"
  },
  "language_info": {
   "codemirror_mode": {
    "name": "ipython",
    "version": 3
   },
   "file_extension": ".py",
   "mimetype": "text/x-python",
   "name": "python",
   "nbconvert_exporter": "python",
   "pygments_lexer": "ipython3",
   "version": "3.6.1"
  }
 },
 "nbformat": 4,
 "nbformat_minor": 2
}
