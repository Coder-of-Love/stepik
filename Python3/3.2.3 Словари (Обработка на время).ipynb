{
 "cells": [
  {
   "cell_type": "markdown",
   "metadata": {},
   "source": [
    "Имеется реализованная функция f(x), принимающая на вход целое число x, которая вычисляет некоторое целочисленое значение и возвращает его в качестве результата работы.\n",
    "\n",
    "Функция вычисляется достаточно долго, ничего не выводит на экран, не пишет в файлы и зависит только от переданного аргумента x.\n",
    "\n",
    "Напишите программу, которой на вход в первой строке подаётся число n — количество значений x, для которых требуется узнать значение функции f(x), после чего сами эти n значений, каждое на отдельной строке. Программа должна после каждого введённого значения аргумента вывести соответствующие значения функции f на отдельной строке.\n",
    "\n",
    "Для ускорения вычисления необходимо сохранять уже вычисленные значения функции при известных аргументах.\n",
    "\n",
    "Обратите внимание, что в этой задаче установлено достаточно сильное ограничение в две секунды по времени исполнения кода на тесте.\n",
    "\n",
    "Sample Input:\n",
    "5\n",
    "5\n",
    "12\n",
    "9\n",
    "20\n",
    "12\n",
    "\n",
    "Sample Output:\n",
    "11\n",
    "41\n",
    "47\n",
    "61\n",
    "41"
   ]
  },
  {
   "cell_type": "code",
   "execution_count": null,
   "metadata": {},
   "outputs": [],
   "source": [
    "#мое\n",
    "\n",
    "def f(x):\n",
    "    return x*x\n",
    "\n",
    "f_dict = {}\n",
    "\n",
    "for _ in range(int(input())):\n",
    "    x = int(input())\n",
    "    if x not in f_dict.keys():\n",
    "        f_dict[x] = f(x)\n",
    "    print(f_dict[x])"
   ]
  },
  {
   "cell_type": "code",
   "execution_count": null,
   "metadata": {},
   "outputs": [],
   "source": [
    "#Ромино\n",
    "\n",
    "def f(x):\n",
    "    return x*x\n",
    "\n",
    "f_dict = {}\n",
    "\n",
    "for _ in range(int(input())):\n",
    "    x = int(input())\n",
    "    f_x = f_dict.get(x, None)\n",
    "    if not f_x:\n",
    "        f_dict[x] = f(x)\n",
    "    print(f_dict[x])"
   ]
  },
  {
   "cell_type": "code",
   "execution_count": null,
   "metadata": {},
   "outputs": [],
   "source": [
    "#чужое, самое популярное\n",
    "\n",
    "a=[int(input()) for i in range(int(input()))]\n",
    "b={x:f(x) for x in set(a)}\n",
    "for i in a:\n",
    "    print(b[i])"
   ]
  },
  {
   "cell_type": "code",
   "execution_count": null,
   "metadata": {},
   "outputs": [],
   "source": [
    "#чужое, через лямбды\n",
    "\n",
    "(lambda x: (lambda m: {print(m[y]) for y in x})({i: f(i) for i in set(x)}))([int(input()) for i in range(int(input()))])"
   ]
  }
 ],
 "metadata": {
  "kernelspec": {
   "display_name": "Python 3",
   "language": "python",
   "name": "python3"
  },
  "language_info": {
   "codemirror_mode": {
    "name": "ipython",
    "version": 3
   },
   "file_extension": ".py",
   "mimetype": "text/x-python",
   "name": "python",
   "nbconvert_exporter": "python",
   "pygments_lexer": "ipython3",
   "version": "3.6.1"
  }
 },
 "nbformat": 4,
 "nbformat_minor": 2
}
