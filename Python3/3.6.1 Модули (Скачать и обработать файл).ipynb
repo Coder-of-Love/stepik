{
 "cells": [
  {
   "cell_type": "markdown",
   "metadata": {},
   "source": [
    "Скачайте файл. В нём указан адрес другого файла, который нужно скачать с использованием модуля requests и посчитать число строк в нём.\n",
    "\n",
    "Используйте функцию get для получения файла (имеет смысл вызвать метод strip к передаваемому параметру, чтобы убрать пробельные символы по краям).\n",
    "\n",
    "После получения файла вы можете проверить результат, обратившись к полю text. Если результат работы скрипта не принимается, проверьте поле url на правильность. Для подсчёта количества строк разбейте текст с помощью метода splitlines.\n",
    "\n",
    "В поле ответа введите одно число или отправьте файл, содержащий одно число."
   ]
  },
  {
   "cell_type": "code",
   "execution_count": null,
   "metadata": {},
   "outputs": [],
   "source": [
    "#мое, в лоб\n",
    "\n",
    "import os\n",
    "import requests\n",
    "\n",
    "download_path = os.getcwd() + \"\\dataset_3378_2.txt\"\n",
    "with open(download_path) as file:\n",
    "    downloaded = requests.get(file.read().strip())\n",
    "    text = downloaded.text.splitlines()\n",
    "    count = 0\n",
    "    for line in text:\n",
    "        count += 1\n",
    "        \n",
    "print(count)"
   ]
  },
  {
   "cell_type": "code",
   "execution_count": null,
   "metadata": {},
   "outputs": [],
   "source": [
    "#чужое\n",
    "\n",
    "import requests\n",
    "\n",
    "with open('dataset_3378_2.txt') as inf:\n",
    "    r = requests.get(inf.readline().strip())\n",
    "    print(len(r.text.splitlines()))"
   ]
  },
  {
   "cell_type": "code",
   "execution_count": null,
   "metadata": {},
   "outputs": [],
   "source": [
    "#чужое\n",
    "\n",
    "from requests import get\n",
    "with open('dataset_3378_2.txt') as file:\n",
    "    print(len(get(file.readline().strip()).text.splitlines()))"
   ]
  },
  {
   "cell_type": "code",
   "execution_count": null,
   "metadata": {},
   "outputs": [],
   "source": [
    "#чужое, в 1 строку\n",
    "\n",
    "import requests\n",
    "print(requests.get(open('xxx.txt').readline().strip()).text.count('\\n'))"
   ]
  }
 ],
 "metadata": {
  "kernelspec": {
   "display_name": "Python 3",
   "language": "python",
   "name": "python3"
  },
  "language_info": {
   "codemirror_mode": {
    "name": "ipython",
    "version": 3
   },
   "file_extension": ".py",
   "mimetype": "text/x-python",
   "name": "python",
   "nbconvert_exporter": "python",
   "pygments_lexer": "ipython3",
   "version": "3.6.1"
  }
 },
 "nbformat": 4,
 "nbformat_minor": 2
}
