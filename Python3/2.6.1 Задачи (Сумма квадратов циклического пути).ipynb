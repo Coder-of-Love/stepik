{
 "cells": [
  {
   "cell_type": "markdown",
   "metadata": {},
   "source": [
    "Напишите программу, которая считывает с консоли числа (по одному в строке) до тех пор, пока сумма введённых чисел не будет равна 0 и сразу после этого выводит сумму квадратов всех считанных чисел.\n",
    "\n",
    "Гарантируется, что в какой-то момент сумма введённых чисел окажется равной 0, после этого считывание продолжать не нужно.\n",
    "\n",
    "В примере мы считываем числа 1, -3, 5, -6, -10, 13; в этот момент замечаем, что сумма этих чисел равна нулю и выводим сумму их квадратов, не обращая внимания на то, что остались ещё не прочитанные значения.\n",
    "\n",
    "Sample Input:\n",
    "1\n",
    "-3\n",
    "5\n",
    "-6\n",
    "-10\n",
    "13\n",
    "4\n",
    "-8\n",
    "\n",
    "Sample Output: (неправильный)\n",
    "340"
   ]
  },
  {
   "cell_type": "code",
   "execution_count": null,
   "metadata": {},
   "outputs": [],
   "source": [
    "#мое\n",
    "\n",
    "tmp = int(input())\n",
    "Sum = tmp\n",
    "Square = tmp**2\n",
    "\n",
    "while (Sum):\n",
    "    tmp = int(input())\n",
    "    Sum += tmp\n",
    "    Square += tmp**2\n",
    "    \n",
    "print(Square)"
   ]
  },
  {
   "cell_type": "code",
   "execution_count": null,
   "metadata": {},
   "outputs": [],
   "source": [
    "#чужое\n",
    "\n",
    "s = [0, 0, 1]\n",
    "while s[2]:\n",
    "    i = int(input())\n",
    "    s = [s[0] + i, s[1] + i ** 2, s[0] + i]\n",
    "print(s[1])"
   ]
  },
  {
   "cell_type": "code",
   "execution_count": null,
   "metadata": {},
   "outputs": [],
   "source": [
    "#чужое\n",
    "\n",
    "arr = [int(input())]\n",
    "while sum(arr) != 0:\n",
    "    arr.append(int(input()))\n",
    "\n",
    "print(sum([i**2 for i in arr]))"
   ]
  },
  {
   "cell_type": "code",
   "execution_count": null,
   "metadata": {},
   "outputs": [],
   "source": [
    "#чужое\n",
    "\n",
    "s = [0] * 2\n",
    "while 1 :\n",
    "    i = int(input())\n",
    "    s = [s[0] + i, s[1] + i ** 2]\n",
    "    if not s[0] :\n",
    "        break\n",
    "print(s[1])"
   ]
  }
 ],
 "metadata": {
  "kernelspec": {
   "display_name": "Python 3",
   "language": "python",
   "name": "python3"
  },
  "language_info": {
   "codemirror_mode": {
    "name": "ipython",
    "version": 3
   },
   "file_extension": ".py",
   "mimetype": "text/x-python",
   "name": "python",
   "nbconvert_exporter": "python",
   "pygments_lexer": "ipython3",
   "version": "3.6.1"
  }
 },
 "nbformat": 4,
 "nbformat_minor": 2
}
