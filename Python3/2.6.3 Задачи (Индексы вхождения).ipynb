{
 "cells": [
  {
   "cell_type": "markdown",
   "metadata": {},
   "source": [
    "Напишите программу, которая считывает список чисел lst из первой строки и число x из второй строки, которая выводит все позиции, на которых встречается число x в переданном списке lst.\n",
    "\n",
    "Позиции нумеруются с нуля, если число x не встречается в списке, вывести строку \"Отсутствует\" (без кавычек, с большой буквы).\n",
    "\n",
    "Позиции должны быть выведены в одну строку, по возрастанию абсолютного значения.\n",
    "\n",
    "Sample Input 1:\n",
    "5 8 2 7 8 8 2 4\n",
    "8\n",
    "\n",
    "Sample Output 1:\n",
    "1 4 5\n",
    "\n",
    "Sample Input 2:\n",
    "5 8 2 7 8 8 2 4\n",
    "10\n",
    "\n",
    "Sample Output 2:\n",
    "Отсутствует"
   ]
  },
  {
   "cell_type": "code",
   "execution_count": null,
   "metadata": {},
   "outputs": [],
   "source": [
    "#мое\n",
    "\n",
    "List, Num, NumInList = list(map(int, input().split())), int(input()), []\n",
    "\n",
    "for i in range(len(List)):\n",
    "    if List[i] == Num:\n",
    "        NumInList.append(i)\n",
    "\n",
    "if NumInList:        \n",
    "    print(*NumInList)\n",
    "else:\n",
    "    print(\"Отсутствует\")"
   ]
  },
  {
   "cell_type": "code",
   "execution_count": null,
   "metadata": {},
   "outputs": [],
   "source": [
    "#чужое, компактное\n",
    "\n",
    "a,b=input(),input()\n",
    "print('Отсутствует' if not b in a else ' '.join([str(i) for i,x in enumerate(a.split()) if x==b]))"
   ]
  },
  {
   "cell_type": "code",
   "execution_count": null,
   "metadata": {},
   "outputs": [],
   "source": [
    "#чужое\n",
    "\n",
    "lst = [int(i) for i in input().split()] # список чисел\n",
    "x = int(input())                        # значение для поиска в списке\n",
    "\n",
    "indexes = [i for i, v in enumerate(lst) if v == x] # список индексов\n",
    "\n",
    "if len(indexes) == 0:\n",
    "    print('Отсутствует')\n",
    "else:\n",
    "    print(' '.join(map(str,indexes)))"
   ]
  },
  {
   "cell_type": "code",
   "execution_count": null,
   "metadata": {},
   "outputs": [],
   "source": [
    "#чужое\n",
    "\n",
    "l = input().split()\n",
    "x = input()\n",
    "print(*[i for (i, xi) in enumerate(l) if xi == x] if x in l else ['Отсутствует']) "
   ]
  },
  {
   "cell_type": "code",
   "execution_count": null,
   "metadata": {},
   "outputs": [],
   "source": [
    "#чужое\n",
    "\n",
    "numbers = [int(i) for i in input().split()]\n",
    "n = int(input())\n",
    "\n",
    "if n in numbers:\n",
    "    print(*[num for num, val in enumerate(numbers) if val == n])\n",
    "else:\n",
    "    print('Отсутствует')"
   ]
  }
 ],
 "metadata": {
  "kernelspec": {
   "display_name": "Python 3",
   "language": "python",
   "name": "python3"
  },
  "language_info": {
   "codemirror_mode": {
    "name": "ipython",
    "version": 3
   },
   "file_extension": ".py",
   "mimetype": "text/x-python",
   "name": "python",
   "nbconvert_exporter": "python",
   "pygments_lexer": "ipython3",
   "version": "3.6.1"
  }
 },
 "nbformat": 4,
 "nbformat_minor": 2
}
