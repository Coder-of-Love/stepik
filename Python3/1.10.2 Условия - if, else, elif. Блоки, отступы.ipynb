{
 "cells": [
  {
   "cell_type": "markdown",
   "metadata": {},
   "source": [
    "Требуется определить, является ли данный год високосным.\n",
    "\n",
    "Напомним, что високосными годами считаются те годы, порядковый номер которых либо кратен 4, но при этом не кратен 100, либо кратен 400 (например, 2000-й год являлся високосным, а 2100-й будет невисокосным годом). \n",
    "\n",
    "Программа должна корректно работать на числах 1900≤n≤3000.\n",
    "\n",
    "Выведите \"Високосный\" в случае, если считанный год является високосным и \"Обычный\" в обратном случае (не забывайте проверять регистр выводимых программой символов)."
   ]
  },
  {
   "cell_type": "code",
   "execution_count": null,
   "metadata": {},
   "outputs": [],
   "source": [
    "#моё\n",
    "\n",
    "Year = int(input())\n",
    "\n",
    "print('Високосный' if ((Year%4==0)*(Year%100!=0)) ^ (Year%400==0) else 'Обычный')"
   ]
  },
  {
   "cell_type": "code",
   "execution_count": null,
   "metadata": {},
   "outputs": [],
   "source": [
    "#чужое, с использованием встроенной ф-цц\n",
    "\n",
    "import calendar\n",
    "year = int(input())\n",
    "if calendar.isleap(year):\n",
    "    print (\"Високосный\")\n",
    "else:\n",
    "    print (\"Обычный\")"
   ]
  },
  {
   "cell_type": "code",
   "execution_count": null,
   "metadata": {},
   "outputs": [],
   "source": [
    "#чужое, в 1 строку\n",
    "\n",
    "exec(\"print( 'Високосный' if ({0}%4==0 and {0}%100!=0) or ({0}%400==0) else 'Обычный' )\".format(int(input())))"
   ]
  },
  {
   "cell_type": "code",
   "execution_count": null,
   "metadata": {},
   "outputs": [],
   "source": [
    "#чужое, в 1 строку с использованием лямбда ф-ции\n",
    "\n",
    "print(['Обычный', 'Високосный'][(lambda x: x%4==0 and x%100!=0 or x%400==0)(int(input()))])"
   ]
  }
 ],
 "metadata": {
  "kernelspec": {
   "display_name": "Python 3",
   "language": "python",
   "name": "python3"
  },
  "language_info": {
   "codemirror_mode": {
    "name": "ipython",
    "version": 3
   },
   "file_extension": ".py",
   "mimetype": "text/x-python",
   "name": "python",
   "nbconvert_exporter": "python",
   "pygments_lexer": "ipython3",
   "version": "3.6.1"
  }
 },
 "nbformat": 4,
 "nbformat_minor": 2
}
