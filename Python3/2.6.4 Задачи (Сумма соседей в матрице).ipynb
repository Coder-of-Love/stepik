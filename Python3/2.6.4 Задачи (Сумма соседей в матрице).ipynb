{
 "cells": [
  {
   "cell_type": "markdown",
   "metadata": {},
   "source": [
    "Напишите программу, на вход которой подаётся прямоугольная матрица в виде последовательности строк, заканчивающихся строкой, содержащей только строку \"end\" (без кавычек)\n",
    "\n",
    "Программа должна вывести матрицу того же размера, у которой каждый элемент в позиции i, j равен сумме элементов первой матрицы на позициях (i-1, j), (i+1, j), (i, j-1), (i, j+1). У крайних символов соседний элемент находится с противоположной стороны матрицы.\n",
    "\n",
    "В случае одной строки/столбца элемент сам себе является соседом по соответствующему направлению.\n",
    "\n",
    "Sample Input 1:\n",
    "9 5 3\n",
    "0 7 -1\n",
    "-5 2 9\n",
    "end\n",
    "\n",
    "Sample Output 1:\n",
    "3 21 22\n",
    "10 6 19\n",
    "20 16 -1\n",
    "\n",
    "Sample Input 2:\n",
    "1\n",
    "end\n",
    "\n",
    "Sample Output 2:\n",
    "4"
   ]
  },
  {
   "cell_type": "code",
   "execution_count": null,
   "metadata": {},
   "outputs": [],
   "source": [
    "#мое\n",
    "\n",
    "A = []\n",
    "tmp = input()\n",
    "\n",
    "while (tmp != \"end\"):\n",
    "    A.append([int(i) for i in tmp.split()])\n",
    "    tmp = input()\n",
    "    \n",
    "for i in range(len(A)):\n",
    "    for j in range(len(A[0])):\n",
    "        print(A[i-1][j] + A[(i+1)%len(A)][j] + A[i][j-1] + A[i][(j+1)%len(A[0])], end = ' ')\n",
    "    print()"
   ]
  }
 ],
 "metadata": {
  "kernelspec": {
   "display_name": "Python 3",
   "language": "python",
   "name": "python3"
  },
  "language_info": {
   "codemirror_mode": {
    "name": "ipython",
    "version": 3
   },
   "file_extension": ".py",
   "mimetype": "text/x-python",
   "name": "python",
   "nbconvert_exporter": "python",
   "pygments_lexer": "ipython3",
   "version": "3.6.1"
  }
 },
 "nbformat": 4,
 "nbformat_minor": 2
}
