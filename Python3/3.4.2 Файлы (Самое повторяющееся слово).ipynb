{
 "cells": [
  {
   "cell_type": "markdown",
   "metadata": {},
   "source": [
    "Недавно мы считали для каждого слова количество его вхождений в строку. Но на все слова может быть не так интересно смотреть, как, например, на наиболее часто используемые.\n",
    "\n",
    "Напишите программу, которая считывает текст из файла (в файле может быть больше одной строки) и выводит самое частое слово в этом тексте и через пробел то, сколько раз оно встретилось. Если таких слов несколько, вывести лексикографически первое (можно использовать оператор < для строк).\n",
    "\n",
    "Слова, написанные в разных регистрах, считаются одинаковыми.\n",
    "\n",
    "Sample Input:\n",
    "abc a bCd bC AbC BC BCD bcd ABC\n",
    "\n",
    "Sample Output:\n",
    "abc 3"
   ]
  },
  {
   "cell_type": "code",
   "execution_count": null,
   "metadata": {},
   "outputs": [],
   "source": [
    "#мое, через стандартный поиск максимума\n",
    "\n",
    "import os\n",
    "\n",
    "pathin = os.getcwd() + \"/dataset_3363_3.txt\"\n",
    "pathout = os.getcwd() + \"/analyzed_dataset_3363_3.txt\"\n",
    "\n",
    "with open(pathin) as rf:\n",
    "    s = rf.read().replace('\\n', ' ').lower().split()\n",
    "    s.sort()\n",
    "\n",
    "mx = s[0]\n",
    "mxc = s.count(mx)\n",
    "for i in set(s):\n",
    "    txc = s.count(i)\n",
    "    if txc > mxc:\n",
    "        mx = i\n",
    "        mxc = txc\n",
    "        \n",
    "with open(pathout, 'w') as wf:\n",
    "    wf.write(str(mx) + ' ' + str(mxc))"
   ]
  },
  {
   "cell_type": "code",
   "execution_count": null,
   "metadata": {},
   "outputs": [],
   "source": [
    "#чужое, через словари\n",
    "\n",
    "with open('gtx.txt','r') as file:\n",
    "    s = file.read().strip().lower().split()\n",
    "\n",
    "z = {i: s.count(i) for i in s}\n",
    "\n",
    "maximum = max(z, key=z.get)  \n",
    "x = {maximum: z[maximum]}\n",
    "\n",
    "with open('gtx.txt','w') as file:\n",
    "    file.write(str(x)) "
   ]
  }
 ],
 "metadata": {
  "kernelspec": {
   "display_name": "Python 3",
   "language": "python",
   "name": "python3"
  },
  "language_info": {
   "codemirror_mode": {
    "name": "ipython",
    "version": 3
   },
   "file_extension": ".py",
   "mimetype": "text/x-python",
   "name": "python",
   "nbconvert_exporter": "python",
   "pygments_lexer": "ipython3",
   "version": "3.6.1"
  }
 },
 "nbformat": 4,
 "nbformat_minor": 2
}
