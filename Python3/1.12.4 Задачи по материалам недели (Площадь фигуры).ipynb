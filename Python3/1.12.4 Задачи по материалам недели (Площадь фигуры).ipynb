{
 "cells": [
  {
   "cell_type": "markdown",
   "metadata": {},
   "source": [
    "Жители страны Малевии часто экспериментируют с планировкой комнат. Комнаты бывают треугольные, прямоугольные и круглые. Чтобы быстро вычислять жилплощадь, требуется написать программу, на вход которой подаётся тип фигуры комнаты и соответствующие параметры, которая бы выводила площадь получившейся комнаты.\n",
    "Для числа π в стране Малевии используют значение 3.14.\n",
    "\n",
    "Формат ввода, который используют Малевийцы:\n",
    "\n",
    "треугольник\n",
    "a\n",
    "b\n",
    "c\n",
    "где a, b и c — длины сторон треугольника"
   ]
  },
  {
   "cell_type": "code",
   "execution_count": null,
   "metadata": {},
   "outputs": [],
   "source": [
    "#моё, в лоб\n",
    "\n",
    "type = input()\n",
    "\n",
    "if type == 'круг':\n",
    "    print(3.14 * (float(input())**2))\n",
    "    \n",
    "elif type == 'треугольник':\n",
    "    a,b,c = (float(input()) for _ in range (3))\n",
    "    p = (a+b+c)/2\n",
    "    print((p*(p-a)*(p-b)*(p-c))**0.5)\n",
    "    \n",
    "elif type == 'прямоугольник':\n",
    "    a,b = (float(input()) for _ in range (2))\n",
    "    print(a*b)"
   ]
  },
  {
   "cell_type": "code",
   "execution_count": null,
   "metadata": {},
   "outputs": [],
   "source": [
    "#чужое, через лямбда ф-ции и мн-ва\n",
    "\n",
    "s = {1: lambda r: 3.14  * r**2, 2: lambda a, b: a * b, 3: lambda a, b, c: ((a+b+c)/2*(b+c-a)/2*(a+c-b)/2*(a+b-c)/2)**0.5}\n",
    "f = {'круг': 1, 'прямоугольник': 2, 'треугольник': 3}\n",
    "args = [float(input()) for _ in range(f[input()])]\n",
    "print(s[len(args)](*args))"
   ]
  },
  {
   "cell_type": "code",
   "execution_count": null,
   "metadata": {},
   "outputs": [],
   "source": [
    "#чужое, эксперимент над оценочной системой степика\n",
    "\n",
    "res = r'''\n",
    "figure = {'треугольник': [3, lambda a, b, c: ((a+b+c)/2*((a+b+c)/2-a)*((a+b+c)/2-b)*((a+b+c)/2-c))**0.5], \n",
    "          'прямоугольник': [2, lambda a, b: a*b], \n",
    "          'круг': [1, lambda r: 3.14*r**2]}\n",
    "f = input()\n",
    "print(figure[f][1](*(float(input()) for _ in range(figure[f][0]))))\n",
    "'''\n",
    "exec(res)"
   ]
  },
  {
   "cell_type": "code",
   "execution_count": null,
   "metadata": {},
   "outputs": [],
   "source": [
    "#от модератора\n",
    "\n",
    "shape = input()\n",
    "\n",
    "a = float(input())\n",
    "\n",
    "if shape == \"треугольник\" or shape == \"прямоугольник\":\n",
    "    b = float(input())\n",
    "    S = a*b\n",
    "    if shape == \"треугольник\":\n",
    "        c = float(input())\n",
    "        p = (a+b+c)/2\n",
    "        S = (p*(p-a)*(p-b)*(p-c))**0.5\n",
    "else:\n",
    "    S = 3.14*a**2\n",
    "\n",
    "print (S)"
   ]
  },
  {
   "cell_type": "code",
   "execution_count": null,
   "metadata": {},
   "outputs": [],
   "source": [
    "#чужое, через ООП\n",
    "\n",
    "import math\n",
    "\n",
    "class Shape:\n",
    "    def square(self):\n",
    "        pass\n",
    "    def message(self):\n",
    "        print(self.square())\n",
    "\n",
    "class Triangle(Shape):\n",
    "    def __init__(self):\n",
    "        self.a = float(input())\n",
    "        self.b = float(input())\n",
    "        self.c = float(input())\n",
    "\n",
    "    def square(self):\n",
    "        p = (self.a + self.b + self.c)/2\n",
    "        return math.sqrt(p*(p-self.a)*(p-self.b)*(p-self.c))\n",
    "\n",
    "class Rectangle(Shape):\n",
    "    def __init__(self):\n",
    "        self.a = float(input())\n",
    "        self.b = float(input())\n",
    "\n",
    "    def square(self):\n",
    "        return self.a * self.b\n",
    "\n",
    "class Circle(Shape):\n",
    "    def __init__(self):\n",
    "        self.r = float(input())\n",
    "        self.PI = 3.14\n",
    "        \n",
    "    def square(self):\n",
    "        return self.PI * self.r**2\n",
    "\n",
    "   \n",
    "if __name__ == '__main__':\n",
    "    shape = input()\n",
    "    if shape == 'треугольник':\n",
    "        triangle = Triangle()\n",
    "        triangle.message()\n",
    "    elif shape == 'прямоугольник':\n",
    "        rectangle = Rectangle()\n",
    "        rectangle.message()\n",
    "    elif shape == 'круг':\n",
    "        circle = Circle()\n",
    "        circle.message()"
   ]
  },
  {
   "cell_type": "code",
   "execution_count": null,
   "metadata": {},
   "outputs": [],
   "source": []
  }
 ],
 "metadata": {
  "kernelspec": {
   "display_name": "Python 3",
   "language": "python",
   "name": "python3"
  },
  "language_info": {
   "codemirror_mode": {
    "name": "ipython",
    "version": 3
   },
   "file_extension": ".py",
   "mimetype": "text/x-python",
   "name": "python",
   "nbconvert_exporter": "python",
   "pygments_lexer": "ipython3",
   "version": "3.6.1"
  }
 },
 "nbformat": 4,
 "nbformat_minor": 2
}
