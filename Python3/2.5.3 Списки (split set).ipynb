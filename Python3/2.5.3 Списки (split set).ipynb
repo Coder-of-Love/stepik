{
 "cells": [
  {
   "cell_type": "markdown",
   "metadata": {},
   "source": [
    "Напишите программу, которая принимает на вход список чисел в одной строке и выводит на экран в одну строку значения, которые повторяются в нём более одного раза.\n",
    "\n",
    "Для решения задачи может пригодиться метод sort списка.\n",
    "\n",
    "Выводимые числа не должны повторяться, порядок их вывода может быть произвольным.\n",
    "\n",
    "Sample Input:\n",
    "4 8 0 3 4 2 0 3\n",
    "\n",
    "Sample Output:\n",
    "0 3 4"
   ]
  },
  {
   "cell_type": "code",
   "execution_count": null,
   "metadata": {},
   "outputs": [],
   "source": [
    "#мое, через приведение к мн-ву\n",
    "\n",
    "List = list(input().split())\n",
    "\n",
    "Set = set()\n",
    "\n",
    "for i, item in enumerate(List):\n",
    "    if List.count(List[i]) > 1:\n",
    "        Set.add(List[i])\n",
    "\n",
    "String = \"\"\n",
    "        \n",
    "for item in Set:\n",
    "    String += str(item) + ' '\n",
    "\n",
    "print(String)"
   ]
  },
  {
   "cell_type": "code",
   "execution_count": null,
   "metadata": {},
   "outputs": [],
   "source": [
    "#чужое, через оптимальное условие и 2 списка\n",
    "\n",
    "a, b = [int(i) for i in input().split()], []\n",
    "for i in a:\n",
    "    if a.count(i) > 1 and b.count(i) == 0:\n",
    "        b.append(i)\n",
    "for i in b:\n",
    "    print(i, end=\" \")"
   ]
  },
  {
   "cell_type": "code",
   "execution_count": null,
   "metadata": {},
   "outputs": [],
   "source": [
    "#чужое, через проход по мн-ву с условием для списка\n",
    "\n",
    "ls = [int(i) for i in input().split()]\n",
    "for i in set(ls):\n",
    "    if ls.count(i) > 1:\n",
    "        print(i, end=' ')"
   ]
  },
  {
   "cell_type": "code",
   "execution_count": null,
   "metadata": {},
   "outputs": [],
   "source": [
    "#чужое, в лоб\n",
    "\n",
    "a,b=[int(i) for i in input().split()],''\n",
    "a.sort()\n",
    "for i in range(len(a)-1):\n",
    "    if a[i]==a[i+1] and a[i]!=b:\n",
    "        print(a[i], end=' ')\n",
    "        b=a[i]"
   ]
  },
  {
   "cell_type": "code",
   "execution_count": null,
   "metadata": {},
   "outputs": [],
   "source": [
    "#чужое, компактное\n",
    "\n",
    "s = input().split()\n",
    "print (*(i for i in set(s) if s.count(i) > 1))"
   ]
  },
  {
   "cell_type": "code",
   "execution_count": null,
   "metadata": {},
   "outputs": [],
   "source": [
    "#чужое, через удаление эл-тов мн-ва\n",
    "\n",
    "a=input().split()\n",
    "[a.remove(i) for i in set(a)]\n",
    "print(*set(a))"
   ]
  },
  {
   "cell_type": "code",
   "execution_count": null,
   "metadata": {},
   "outputs": [],
   "source": [
    "#от модератора\n",
    "\n",
    "str = [int(i) for i in input().split()]\n",
    "ans = []\n",
    "[ans.append(x) for x in str if x not in ans and str.count(x) > 1]\n",
    "print(*ans)"
   ]
  },
  {
   "cell_type": "code",
   "execution_count": null,
   "metadata": {},
   "outputs": [],
   "source": [
    "#чужое, через лямбда ф-цию\n",
    "\n",
    "input_numbers = input().split()\n",
    "print(' '.join(set(filter(lambda x: input_numbers.count(x) > 1, input_numbers))))"
   ]
  }
 ],
 "metadata": {
  "kernelspec": {
   "display_name": "Python 3",
   "language": "python",
   "name": "python3"
  },
  "language_info": {
   "codemirror_mode": {
    "name": "ipython",
    "version": 3
   },
   "file_extension": ".py",
   "mimetype": "text/x-python",
   "name": "python",
   "nbconvert_exporter": "python",
   "pygments_lexer": "ipython3",
   "version": "3.6.1"
  }
 },
 "nbformat": 4,
 "nbformat_minor": 2
}
