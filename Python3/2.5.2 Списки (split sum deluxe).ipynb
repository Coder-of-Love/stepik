{
 "cells": [
  {
   "cell_type": "markdown",
   "metadata": {},
   "source": [
    "Напишите программу, на вход которой подаётся список чисел одной строкой. Программа должна для каждого элемента этого списка вывести сумму двух его соседей. Для элементов списка, являющихся крайними, одним из соседей считается элемент, находящий на противоположном конце этого списка. Например, если на вход подаётся список \"1 3 5 6 10\", то на выход ожидается список \"13 6 9 15 7\" (без кавычек).\n",
    "\n",
    "Если на вход пришло только одно число, надо вывести его же.\n",
    "\n",
    "Вывод должен содержать одну строку с числами нового списка, разделёнными пробелом.\n",
    "\n",
    "Sample Input:\n",
    "1 3 5 6 10\n",
    "\n",
    "Sample Output:\n",
    "13 6 9 15 7"
   ]
  },
  {
   "cell_type": "code",
   "execution_count": null,
   "metadata": {},
   "outputs": [],
   "source": [
    "#мое, в лоб, через обособление граничных эл-тов\n",
    "\n",
    "nums = list(map(int, input().split()))\n",
    "\n",
    "mapped_nums = \"\"\n",
    "\n",
    "if len(nums) != 1:\n",
    "    \n",
    "    for i, n in enumerate(nums):\n",
    "        if i == 0:\n",
    "            mapped_nums += str(nums[-1] + nums[1]) + \" \"\n",
    "        elif i == len(nums) - 1:\n",
    "            mapped_nums += str(nums[-2] + nums[0]) + \" \"\n",
    "        else:\n",
    "            mapped_nums += str(nums[i-1] + nums[i+1]) + \" \"\n",
    "            \n",
    "else:\n",
    "    mapped_nums = str(nums[0])\n",
    "\n",
    "print (mapped_nums)"
   ]
  },
  {
   "cell_type": "code",
   "execution_count": null,
   "metadata": {},
   "outputs": [],
   "source": [
    "#чужое, лаконичное, без mod\n",
    "\n",
    "a=[int(i) for i in input().split()]\n",
    "if len(a)>1:\n",
    "    for i in range(len(a)):\n",
    "        print(a[i-1]+a[i+1-len(a)])\n",
    "else:\n",
    "    print(a[0])"
   ]
  },
  {
   "cell_type": "code",
   "execution_count": null,
   "metadata": {},
   "outputs": [],
   "source": [
    "#чужое, для народа\n",
    "\n",
    "src = [int(i) for i in input().split()]\n",
    "if len(src) == 1:\n",
    "    print(src[0])\n",
    "else:\n",
    "    [print( src[i-1] + src[(i+1) % len(src)] ,end=' ') for i in range(len(src))]\n",
    "    # выражение src[(i+1) % len(src)] на выходе для src = [1, 3, 5, 6, 10] даст [3, 5, 6, 10, 1]\n",
    "    # потому, что (i+1) % len(src) даёт 1 2 3 4 0\n",
    "    # т.е. таким образом 0й элемент оказывается в конце списка (как будто повернули циферблат)\n",
    "    # таким образом если при обращении к i+1 случится выход за границу диапазона для последнего элемента\n",
    "    # то при обращении к (i+1) % len(src) элементу выхода не произойдет\n",
    "    # поэтому складывая -1й элемент с [(i+1) % len(src)]-тым элементом\n",
    "    # мы выполним условие найти сумму предыдущего и следующего элементов\n",
    "    # [print( src[(i+1) % len(src)]) for i in range(len(src))]"
   ]
  },
  {
   "cell_type": "code",
   "execution_count": null,
   "metadata": {},
   "outputs": [],
   "source": [
    "#чужое, через генераторы и линал\n",
    "\n",
    "x = [int(i) for i in input().split(' ')] #создаем список, напр [1, 2, 3, 4, 5]\n",
    "\n",
    "if len(x) <=1:\n",
    "    print (x[0])\n",
    "else:\n",
    "    \n",
    "    y = [x[i-1] for i in range(len(x))] #массив перестановка вправо [5, 1, 2, 3, 4]\n",
    "    z = [x[i] for i in range(-len(x)+1,1)] #массив перестановка влево [2, 3, 4, 5, 1]\n",
    "    \n",
    "    for i in range(len(x)): print(y[i]+z[i], end=' ') #теперь просто поэлементно сложить"
   ]
  }
 ],
 "metadata": {
  "kernelspec": {
   "display_name": "Python 3",
   "language": "python",
   "name": "python3"
  },
  "language_info": {
   "codemirror_mode": {
    "name": "ipython",
    "version": 3
   },
   "file_extension": ".py",
   "mimetype": "text/x-python",
   "name": "python",
   "nbconvert_exporter": "python",
   "pygments_lexer": "ipython3",
   "version": "3.6.1"
  }
 },
 "nbformat": 4,
 "nbformat_minor": 2
}
