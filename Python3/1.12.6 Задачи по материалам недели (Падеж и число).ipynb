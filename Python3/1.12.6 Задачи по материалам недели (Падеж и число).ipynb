{
 "cells": [
  {
   "cell_type": "markdown",
   "metadata": {},
   "source": [
    "В институте биоинформатики по офису передвигается робот. Недавно студенты из группы программистов написали для него программу, по которой робот, когда заходит в комнату, считает количество программистов в ней и произносит его вслух: \"n программистов\".\n",
    "\n",
    "Для того, чтобы это звучало правильно, для каждого n нужно использовать верное окончание слова."
   ]
  },
  {
   "cell_type": "code",
   "execution_count": null,
   "metadata": {},
   "outputs": [],
   "source": [
    "#мое\n",
    "\n",
    "n = int(input())\n",
    "\n",
    "rem = n%10\n",
    "remrem = n%100\n",
    "\n",
    "if (rem in {0,5,6,7,8,9}) or (remrem in range(10,15)):\n",
    "    print (n, 'программистов')\n",
    "elif (rem == 1):\n",
    "    print (n, 'программист')\n",
    "elif (2 <= rem <= 4):\n",
    "    print (n, 'программиста')\n",
    "else:\n",
    "    print('IMPOSIBURU')"
   ]
  },
  {
   "cell_type": "code",
   "execution_count": null,
   "metadata": {},
   "outputs": [],
   "source": [
    "#чужое\n",
    "\n",
    "n=int(input())\n",
    "print(n,'программист'+('ов' if n%10==0 or 4<n%10<10 or 10<n%100<15 else 'а' if 1<n%10<5 else ''))"
   ]
  },
  {
   "cell_type": "code",
   "execution_count": null,
   "metadata": {},
   "outputs": [],
   "source": [
    "#чужое, через строки\n",
    "\n",
    "num = str(input())\n",
    "ov = ('0', '11', '12', '13', '14', '5', '6', '7', '8', '9')\n",
    "ta = ('2', '3', '4')\n",
    "if num.endswith(ov):\n",
    "    print(num + \" программистов\")\n",
    "elif num.endswith('1'):\n",
    "    print(num + \" программист\")\n",
    "elif num.endswith(ta):\n",
    "    print(num + \" программиста\")"
   ]
  }
 ],
 "metadata": {
  "kernelspec": {
   "display_name": "Python 3",
   "language": "python",
   "name": "python3"
  },
  "language_info": {
   "codemirror_mode": {
    "name": "ipython",
    "version": 3
   },
   "file_extension": ".py",
   "mimetype": "text/x-python",
   "name": "python",
   "nbconvert_exporter": "python",
   "pygments_lexer": "ipython3",
   "version": "3.6.1"
  }
 },
 "nbformat": 4,
 "nbformat_minor": 2
}
