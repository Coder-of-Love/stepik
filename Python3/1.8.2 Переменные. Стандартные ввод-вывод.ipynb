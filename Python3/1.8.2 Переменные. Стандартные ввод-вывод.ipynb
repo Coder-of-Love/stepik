{
 "cells": [
  {
   "cell_type": "markdown",
   "metadata": {},
   "source": [
    "Коля каждый день ложится спать ровно в полночь и недавно узнал, что оптимальное время для его сна составляет X минут. Коля хочет поставить себе будильник так, чтобы он прозвенел ровно через X минут после полуночи, однако для этого необходимо указать время сигнала в формате часы, минуты. Помогите Коле определить, на какое время завести будильник."
   ]
  },
  {
   "cell_type": "code",
   "execution_count": null,
   "metadata": {},
   "outputs": [],
   "source": [
    "#мой\n",
    "\n",
    "X = int(input())\n",
    "print(int(X/60))\n",
    "print(X%60)"
   ]
  },
  {
   "cell_type": "code",
   "execution_count": null,
   "metadata": {},
   "outputs": [],
   "source": [
    "#чужой, в одну строку\n",
    "#divmod - возвращает вектор [частное целочисленное, частное остаток]\n",
    "#sep - один из параметров ф-ции print, по-умолчанию sep = ' '\n",
    "\n",
    "print(*divmod(int(input()), 60), sep='\\n')"
   ]
  },
  {
   "cell_type": "code",
   "execution_count": null,
   "metadata": {},
   "outputs": [],
   "source": [
    "#чужой, с форматированием\n",
    "\n",
    "X=int(input())\n",
    "print(f\"{X//60}\\n{X%60}\")"
   ]
  },
  {
   "cell_type": "code",
   "execution_count": null,
   "metadata": {},
   "outputs": [],
   "source": [
    "#чужой, в много строк\n",
    "\n",
    "from sys import stdin, stdout\n",
    "\n",
    "\n",
    "class SolutionBase(object):\n",
    "    def __init__(self):\n",
    "        pass\n",
    "\n",
    "    def get_solver(self):\n",
    "        raise Exception('Method must be overridden')\n",
    "\n",
    "\n",
    "class AlarmSolver(object):\n",
    "    def __init__(self):\n",
    "        pass\n",
    "\n",
    "    @staticmethod\n",
    "    def _mod(x, y):\n",
    "        assert isinstance(x, int) and x >= 0\n",
    "        assert isinstance(y, int) and y > 0\n",
    "        while x >= y:\n",
    "            x -= y\n",
    "\n",
    "        return x\n",
    "\n",
    "    def get_hours(self, minutes):\n",
    "        cu = 0\n",
    "        cd = minutes\n",
    "        while cd > 0:\n",
    "            if AlarmSolver._mod(cd, 60) == 0:\n",
    "                cu += 1\n",
    "\n",
    "            cd -= 1\n",
    "\n",
    "        return cu\n",
    "\n",
    "    def get_minutes(self, minutes):\n",
    "        return AlarmSolver._mod(minutes, 60)\n",
    "\n",
    "\n",
    "class AlarmSolution(SolutionBase):\n",
    "    def __init__(self, solver):\n",
    "        super(AlarmSolution, self).__init__()\n",
    "        assert isinstance(solver, AlarmSolver)\n",
    "\n",
    "        self._solver = solver\n",
    "\n",
    "    def get_solver(self):\n",
    "        return lambda x: (self._solver.get_hours(x), self._solver.get_minutes(x))\n",
    "\n",
    "\n",
    "minutes = -1\n",
    "try:\n",
    "    minutes = int(input())\n",
    "    assert minutes >= 0\n",
    "except Exception(e):\n",
    "    exit(1)\n",
    "\n",
    "solver = AlarmSolution(AlarmSolver()).get_solver()\n",
    "stdout.writelines(map('{0}\\n'.format, solver(minutes)))"
   ]
  },
  {
   "cell_type": "code",
   "execution_count": null,
   "metadata": {},
   "outputs": [],
   "source": [
    "#чужой, в одну строку, вторая строка имеет лишний пробел\n",
    "\n",
    "exec('x = int(input())\\nprint(x//60, \\'\\\\n\\', x%60)')"
   ]
  },
  {
   "cell_type": "code",
   "execution_count": null,
   "metadata": {},
   "outputs": [],
   "source": [
    "#чужой, с лямбда ф-цией\n",
    "\n",
    "print (*(lambda x: [x//60, x%60])(int(input ())), sep='\\n')"
   ]
  }
 ],
 "metadata": {
  "kernelspec": {
   "display_name": "Python 3",
   "language": "python",
   "name": "python3"
  },
  "language_info": {
   "codemirror_mode": {
    "name": "ipython",
    "version": 3
   },
   "file_extension": ".py",
   "mimetype": "text/x-python",
   "name": "python",
   "nbconvert_exporter": "python",
   "pygments_lexer": "ipython3",
   "version": "3.6.1"
  }
 },
 "nbformat": 4,
 "nbformat_minor": 2
}
