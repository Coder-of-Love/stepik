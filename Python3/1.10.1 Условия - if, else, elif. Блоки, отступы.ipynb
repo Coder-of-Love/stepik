{
 "cells": [
  {
   "cell_type": "markdown",
   "metadata": {},
   "source": [
    "Из передачи “Здоровье” Аня узнала, что рекомендуется спать хотя бы A часов в сутки, но пересыпать тоже вредно и не стоит спать более B часов. Сейчас Аня спит H часов в сутки. Если режим сна Ани удовлетворяет рекомендациям передачи “Здоровье”, выведите “Это нормально”. Если Аня спит менее A часов, выведите “Недосып”, если же более B часов, то выведите “Пересып”.\n",
    "\n",
    "Получаемое число A всегда меньше либо равно B.\n",
    "\n",
    "На вход программе в три строки подаются переменные в следующем порядке: A, B, H."
   ]
  },
  {
   "cell_type": "code",
   "execution_count": null,
   "metadata": {},
   "outputs": [],
   "source": [
    "#моё\n",
    "\n",
    "A, B, H = int(input()), int(input()), int(input())\n",
    "\n",
    "if (A <= H <= B):\n",
    "    print('Это нормально')\n",
    "elif (H < A):\n",
    "    print('Недосып')\n",
    "elif (H > B):\n",
    "    print('Пересып')"
   ]
  },
  {
   "cell_type": "code",
   "execution_count": null,
   "metadata": {},
   "outputs": [],
   "source": [
    "#чужое, с использованием массива и индексации\n",
    "\n",
    "a = int(input())\n",
    "b = int(input())\n",
    "x = int(input())\n",
    "print((\"Недосып\", \"Это нормально\", \"Пересып\")[(x > b) - (x < a) + 1])"
   ]
  },
  {
   "cell_type": "code",
   "execution_count": null,
   "metadata": {},
   "outputs": [],
   "source": [
    "#чужое, с логическими операторами\n",
    "\n",
    "a, b, h = (int(input()) for _ in range(3))\n",
    "print('Это нормально'*(a <= h <= b) + 'Недосып'*(h < a) + 'Пересып'*(h > b))"
   ]
  },
  {
   "cell_type": "code",
   "execution_count": null,
   "metadata": {},
   "outputs": [],
   "source": [
    "#чужое, с явными условиями в принте\n",
    "\n",
    "a, b, h = [int(input()) for i in range(3)]\n",
    "print('Пересып' if h > b else 'Недосып' if h < a else 'Это нормально')"
   ]
  },
  {
   "cell_type": "code",
   "execution_count": null,
   "metadata": {},
   "outputs": [],
   "source": [
    "#чужое, в 1 строку\n",
    "\n",
    "exec(\"print('Это нормально'*(a <= h <= b)+'Недосып'*(h < a)+'Пересып'*(h > b))\", {k:int(input()) for k in ('a', 'b', 'h')})"
   ]
  },
  {
   "cell_type": "code",
   "execution_count": null,
   "metadata": {},
   "outputs": [],
   "source": [
    "#чужое, в 1 строку с лямбда ф-цией\n",
    "\n",
    "print((lambda a, b, h: 'Это нормально'*(a <= h <= b)+'Недосып'*(h < a)+'Пересып'*(h > b))(*(int(input()) for _ in range(3))))"
   ]
  },
  {
   "cell_type": "code",
   "execution_count": null,
   "metadata": {},
   "outputs": [],
   "source": [
    "#от модератора, стандартное по нарастающей\n",
    "\n",
    "A=int(input())\n",
    "B=int(input())\n",
    "H=int(input())\n",
    "if H < A:\n",
    "    print ('Недосып')\n",
    "elif H <= B:\n",
    "    print('Это нормально')\n",
    "else:\n",
    "    print ('Пересып')"
   ]
  },
  {
   "cell_type": "code",
   "execution_count": null,
   "metadata": {},
   "outputs": [],
   "source": [
    "#чужое, с лямбда ф-цией\n",
    "\n",
    "f = lambda a, b, h: \"Недосып\" if h < a else \"Пересып\" if h > b else \"Это нормально\"\n",
    "print(f(int(input()), int(input()), int(input())))"
   ]
  }
 ],
 "metadata": {
  "kernelspec": {
   "display_name": "Python 3",
   "language": "python",
   "name": "python3"
  },
  "language_info": {
   "codemirror_mode": {
    "name": "ipython",
    "version": 3
   },
   "file_extension": ".py",
   "mimetype": "text/x-python",
   "name": "python",
   "nbconvert_exporter": "python",
   "pygments_lexer": "ipython3",
   "version": "3.6.1"
  }
 },
 "nbformat": 4,
 "nbformat_minor": 2
}
