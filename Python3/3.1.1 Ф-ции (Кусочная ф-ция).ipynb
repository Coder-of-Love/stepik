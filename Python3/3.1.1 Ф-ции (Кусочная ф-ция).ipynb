{
 "cells": [
  {
   "cell_type": "markdown",
   "metadata": {},
   "source": [
    "Напишите функцию f(x), которая возвращает значение следующей функции, определённой на всей числовой прямой:\n",
    "        { 1 - (x + 2)^2,      x <= -2\n",
    "f(x) =  { -x/2,          -2 < x <= 2\n",
    "        { (x - 2)^2 + 1,  2 < x\n",
    "        \n",
    "Требуется реализовать только функцию, решение не должно осуществлять операций ввода-вывода."
   ]
  },
  {
   "cell_type": "code",
   "execution_count": null,
   "metadata": {},
   "outputs": [],
   "source": [
    "#мое\n",
    "\n",
    "def f(x):\n",
    "    return (1 - (x + 2)**2)*(x <= -2) - (x/2)*(-2 < x <= 2) + ((x - 2)**2 + 1)*(2 < x)\n",
    "\n",
    "F = [f(i) for i in range(-3, 3)]\n",
    "print(*F)"
   ]
  }
 ],
 "metadata": {
  "kernelspec": {
   "display_name": "Python 3",
   "language": "python",
   "name": "python3"
  },
  "language_info": {
   "codemirror_mode": {
    "name": "ipython",
    "version": 3
   },
   "file_extension": ".py",
   "mimetype": "text/x-python",
   "name": "python",
   "nbconvert_exporter": "python",
   "pygments_lexer": "ipython3",
   "version": "3.6.1"
  }
 },
 "nbformat": 4,
 "nbformat_minor": 2
}
