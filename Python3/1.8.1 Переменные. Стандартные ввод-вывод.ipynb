{
 "cells": [
  {
   "cell_type": "markdown",
   "metadata": {},
   "source": [
    "Тимофей обычно спит ночью X часов и устраивает себе днем тихий час на Y минут. Определите, сколько всего минут Тимофей спит в сутки."
   ]
  },
  {
   "cell_type": "code",
   "execution_count": null,
   "metadata": {},
   "outputs": [],
   "source": [
    "#мой, в одну строку\n",
    "print(int(input())*60 + int(input()))"
   ]
  },
  {
   "cell_type": "code",
   "execution_count": null,
   "metadata": {},
   "outputs": [],
   "source": [
    "#чужой, в много строк\n",
    "def HourMinutesToMinutes(Hours, Minutes):\n",
    "    MINUTES_RER_HOUR = 60\n",
    "    if (Hours >= 0) and (MINUTES_RER_HOUR > Minutes >= 0 ):\n",
    "        return MINUTES_RER_HOUR * Hours + Minutes\n",
    "    else:\n",
    "        return -1\n",
    "\n",
    "try:\n",
    "    Hours    = int(input())\n",
    "    Minutes  = int(input())\n",
    "    TotalMinutes = HourMinutesToMinutes(Hours, Minutes)\n",
    "    \n",
    "    if  TotalMinutes < 0:\n",
    "        raise Exception(\"Ошибка: введенные данные не являются корректными значениями часов и(или) минут\")\n",
    "    else:\n",
    "        print (TotalMinutes)   \n",
    "except ValueError:\n",
    "    print (\"Ошибка: введенные данные не являются целыми числами\")\n",
    "except Exception as err:\n",
    "    print (err)"
   ]
  },
  {
   "cell_type": "code",
   "execution_count": null,
   "metadata": {},
   "outputs": [],
   "source": [
    "#шаблон, от модератора курса\n",
    "X = int(input())\n",
    "Y = int(input())\n",
    "print(X*60 + Y)"
   ]
  }
 ],
 "metadata": {
  "kernelspec": {
   "display_name": "Python 3",
   "language": "python",
   "name": "python3"
  },
  "language_info": {
   "codemirror_mode": {
    "name": "ipython",
    "version": 3
   },
   "file_extension": ".py",
   "mimetype": "text/x-python",
   "name": "python",
   "nbconvert_exporter": "python",
   "pygments_lexer": "ipython3",
   "version": "3.6.1"
  }
 },
 "nbformat": 4,
 "nbformat_minor": 2
}
