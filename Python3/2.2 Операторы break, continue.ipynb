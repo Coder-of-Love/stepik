{
 "cells": [
  {
   "cell_type": "markdown",
   "metadata": {},
   "source": [
    "Напишите программу, которая считывает целые числа с консоли по одному числу в строке.\n",
    "\n",
    "Для каждого введённого числа проверить:\n",
    "если число меньше 10, то пропускаем это число;\n",
    "если число больше 100, то прекращаем считывать числа;\n",
    "в остальных случаях вывести это число обратно на консоль в отдельной строке."
   ]
  },
  {
   "cell_type": "code",
   "execution_count": null,
   "metadata": {},
   "outputs": [],
   "source": [
    "#мое, без break и continue\n",
    "\n",
    "IN = int(input())\n",
    "\n",
    "while (IN <= 100):\n",
    "    if (IN >= 10) print(IN)\n",
    "    IN = int(input())"
   ]
  },
  {
   "cell_type": "code",
   "execution_count": null,
   "metadata": {},
   "outputs": [],
   "source": [
    "#чужое, с выводом после завершения цикла, качественное\n",
    "\n",
    "b = ''\n",
    "\n",
    "while True:\n",
    "    a = int(input())\n",
    "    if a < 10:\n",
    "        continue\n",
    "    elif a > 100:\n",
    "        break\n",
    "    else:\n",
    "        b = b + str(a) + '\\n'\n",
    "print (b)"
   ]
  },
  {
   "cell_type": "code",
   "execution_count": null,
   "metadata": {},
   "outputs": [],
   "source": [
    "#чужое, через print с условием\n",
    "\n",
    "a = 0\n",
    "while a <= 100:\n",
    "    a = int(input())\n",
    "    print((str(a)+'\\n') if (10 <= a <= 100) else '', end='')"
   ]
  },
  {
   "cell_type": "code",
   "execution_count": null,
   "metadata": {},
   "outputs": [],
   "source": [
    "#чужое, через split\n",
    "\n",
    "rez = ''\n",
    "\n",
    "while True:\n",
    "    number = int(input())\n",
    "    if 10 <= number <= 100:\n",
    "        rez = rez + ' ' + str(number)\n",
    "    elif number < 10:\n",
    "        continue\n",
    "    else:\n",
    "        break\n",
    "\n",
    "for i in rez.split():\n",
    "    print(i, sep='\\n')"
   ]
  }
 ],
 "metadata": {
  "kernelspec": {
   "display_name": "Python 3",
   "language": "python",
   "name": "python3"
  },
  "language_info": {
   "codemirror_mode": {
    "name": "ipython",
    "version": 3
   },
   "file_extension": ".py",
   "mimetype": "text/x-python",
   "name": "python",
   "nbconvert_exporter": "python",
   "pygments_lexer": "ipython3",
   "version": "3.6.1"
  }
 },
 "nbformat": 4,
 "nbformat_minor": 2
}
