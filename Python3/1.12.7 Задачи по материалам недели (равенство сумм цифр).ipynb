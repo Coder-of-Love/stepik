{
 "cells": [
  {
   "cell_type": "markdown",
   "metadata": {},
   "source": [
    "Паша очень любит кататься на общественном транспорте, а получая билет, сразу проверяет, счастливый ли ему попался. Билет считается счастливым, если сумма первых трех цифр совпадает с суммой последних трех цифр номера билета.\n",
    "\n",
    "Однако Паша очень плохо считает в уме, поэтому попросил вас написать программу, которая проверит равенство сумм и выведет \"Счастливый\", если суммы совпадают, и \"Обычный\", если суммы различны."
   ]
  },
  {
   "cell_type": "code",
   "execution_count": null,
   "metadata": {},
   "outputs": [],
   "source": [
    "#мое, через строку и преобразование\n",
    "\n",
    "ticket = input()\n",
    "\n",
    "p1 = int(ticket[0]) + int(ticket[1]) + int(ticket[2])\n",
    "p2 = int(ticket[3]) + int(ticket[4]) + int(ticket[5])\n",
    "\n",
    "print('Счастливый'*(p1==p2)+'Обычный'*(p1!=p2))"
   ]
  },
  {
   "cell_type": "code",
   "execution_count": null,
   "metadata": {},
   "outputs": [],
   "source": [
    "#чужое, через деление с остатком\n",
    "\n",
    "n=int(input())\n",
    "print(\"Счастливый\" if n//100000+n//10000%10+n//1000%10==n//100%10+n//10%10+n%10 else \"Обычный\")"
   ]
  },
  {
   "cell_type": "code",
   "execution_count": null,
   "metadata": {},
   "outputs": [],
   "source": [
    "#чужое, через list/map\n",
    "\n",
    "n = list(map(int, list(input())))\n",
    "print('Счастливый' if sum(n[:3]) == sum(n[3:]) else 'Обычный')"
   ]
  },
  {
   "cell_type": "code",
   "execution_count": null,
   "metadata": {},
   "outputs": [],
   "source": [
    "#чужое, через условную индексацию\n",
    "\n",
    "a,b,c,d,e,f=(int(n) for n in input())\n",
    "print(('Обычный','Счастливый')[a+b+c == d+e+f])"
   ]
  }
 ],
 "metadata": {
  "kernelspec": {
   "display_name": "Python 3",
   "language": "python",
   "name": "python3"
  },
  "language_info": {
   "codemirror_mode": {
    "name": "ipython",
    "version": 3
   },
   "file_extension": ".py",
   "mimetype": "text/x-python",
   "name": "python",
   "nbconvert_exporter": "python",
   "pygments_lexer": "ipython3",
   "version": "3.6.1"
  }
 },
 "nbformat": 4,
 "nbformat_minor": 2
}
