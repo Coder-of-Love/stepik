{
 "cells": [
  {
   "cell_type": "markdown",
   "metadata": {},
   "source": [
    "Дополнительная\n",
    "\n",
    "Напишите программу, которая умеет шифровать и расшифровывать шифр подстановки. Программа принимает на вход две строки одинаковой длины, на первой строке записаны символы исходного алфавита, на второй строке — символы конечного алфавита, после чего идёт строка, которую нужно зашифровать переданным ключом, и ещё одна строка, которую нужно расшифровать.\n",
    "\n",
    "Пусть, например, на вход программе передано:\n",
    "abcd\n",
    "*d%#\n",
    "abacabadaba\n",
    "#*%*d*%\n",
    "\n",
    "Это значит, что символ a исходного сообщения заменяется на символ * в шифре, b заменяется на d, c — на % и d — на #.\n",
    "Нужно зашифровать строку abacabadaba и расшифровать строку #*%*d*% с помощью этого шифра. Получаем следующие строки, которые и передаём на вывод программы:\n",
    "*d*%*d*#*d*\n",
    "dacabac\n",
    "\n",
    "Sample Input 1:\n",
    "abcd\n",
    "*d%#\n",
    "abacabadaba\n",
    "#*%*d*%\n",
    "\n",
    "Sample Output 1:\n",
    "*d*%*d*#*d*\n",
    "dacabac\n",
    "\n",
    "Sample Input 2:\n",
    "dcba\n",
    "badc\n",
    "dcba\n",
    "badc\n",
    "\n",
    "Sample Output 2:\n",
    "badc\n",
    "dcba"
   ]
  },
  {
   "cell_type": "code",
   "execution_count": null,
   "metadata": {},
   "outputs": [],
   "source": [
    "#мое\n",
    "\n",
    "def translate(s, d):\n",
    "    ts = \"\"\n",
    "    for c in s:\n",
    "        ts += d[c]\n",
    "    return ts\n",
    "        \n",
    "alph_start = list(input())\n",
    "alph_fin = list(input())\n",
    "\n",
    "cypher_dict = dict(zip(alph_start, alph_fin))\n",
    "decypher_dict = dict(zip(alph_fin, alph_start))\n",
    "\n",
    "to_cypher = input()\n",
    "to_decypher = input()\n",
    "\n",
    "print(translate(to_cypher, cypher_dict), translate(to_decypher, decypher_dict), sep = '\\n')"
   ]
  },
  {
   "cell_type": "code",
   "execution_count": null,
   "metadata": {},
   "outputs": [],
   "source": [
    "#чужое, самое популярное\n",
    "\n",
    "a,b,c,d=input(),input(),input(),input()\n",
    "print(''.join(b[a.index(i)] for i in c))\n",
    "print(''.join(a[b.index(i)] for i in d))"
   ]
  },
  {
   "cell_type": "code",
   "execution_count": null,
   "metadata": {},
   "outputs": [],
   "source": [
    "#чужое, через стандартную библиотеку\n",
    "\n",
    "source, dest = input(), input()\n",
    "decoded = input()\n",
    "encoded = input()\n",
    "\n",
    "print(decoded.translate(str.maketrans(source, dest)))\n",
    "print(encoded.translate(str.maketrans(dest, source)))"
   ]
  }
 ],
 "metadata": {
  "kernelspec": {
   "display_name": "Python 3",
   "language": "python",
   "name": "python3"
  },
  "language_info": {
   "codemirror_mode": {
    "name": "ipython",
    "version": 3
   },
   "file_extension": ".py",
   "mimetype": "text/x-python",
   "name": "python",
   "nbconvert_exporter": "python",
   "pygments_lexer": "ipython3",
   "version": "3.6.1"
  }
 },
 "nbformat": 4,
 "nbformat_minor": 2
}
