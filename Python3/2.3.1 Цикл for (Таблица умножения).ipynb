{
 "cells": [
  {
   "cell_type": "markdown",
   "metadata": {},
   "source": [
    "Когда Павел учился в школе, он запоминал таблицу умножения прямоугольными блоками. Для тренировок ему бы очень пригодилась программа, которая показывала бы блок таблицы умножения.\n",
    "\n",
    "Напишите программу, на вход которой даются четыре числа a, b, c и d, каждое в своей строке. Программа должна вывести фрагмент таблицы умножения для всех чисел отрезка [a;b] на все числа отрезка [c;d].\n",
    "\n",
    "Числа a, b, c и d являются натуральными и не превосходят 10, a≤b, c≤d."
   ]
  },
  {
   "cell_type": "markdown",
   "metadata": {},
   "source": [
    "Sample Input:\n",
    "\n",
    "7\n",
    "10\n",
    "5\n",
    "6\n",
    "Sample Output:\n",
    "\n",
    "\t5\t6\n",
    "7\t35\t42\n",
    "8\t40\t48\n",
    "9\t45\t54\n",
    "10\t50\t60"
   ]
  },
  {
   "cell_type": "code",
   "execution_count": 9,
   "metadata": {},
   "outputs": [
    {
     "name": "stdout",
     "output_type": "stream",
     "text": [
      "3\n",
      "4\n",
      "5\n",
      "5\n",
      "\t 5\n",
      "3\t15\t\n",
      "4\t20\t\n"
     ]
    }
   ],
   "source": [
    "#мое, классическое(совпадает с большинством решений форума)\n",
    "\n",
    "a, b, c, d = (int(input()) for _ in range(4))\n",
    "\n",
    "for i in range(c, d + 1):\n",
    "    print('\\t', i, end = '')\n",
    "    \n",
    "print()\n",
    "\n",
    "for i in range(a, b + 1):\n",
    "    print(i, end = '\\t')\n",
    "    for j in range(c, d + 1):\n",
    "        print(i*j, end = '\\t')\n",
    "    print()"
   ]
  },
  {
   "cell_type": "code",
   "execution_count": null,
   "metadata": {},
   "outputs": [],
   "source": [
    "#от модератора, через range()*\n",
    "\n",
    "a=int(input())\n",
    "b=int(input())\n",
    "c=int(input())\n",
    "d=int(input())\n",
    "\n",
    "print('\\t', *range(c, d+1), sep='\\t')\n",
    "for i in range(a,b+1):\n",
    "    print(i, *range(i*c,(i*d)+1, i), sep='\\t')"
   ]
  },
  {
   "cell_type": "code",
   "execution_count": null,
   "metadata": {},
   "outputs": [],
   "source": [
    "#чужое, компактное\n",
    "\n",
    "a, b, c, d = (int(input()) for i in (1, 2, 3, 4))\n",
    "print('', *range(c, d + 1), sep='\\t')\n",
    "[ print(i, *range(i * c, i * (d + 1), i), sep='\\t') for i in range(a, b + 1) ]"
   ]
  }
 ],
 "metadata": {
  "kernelspec": {
   "display_name": "Python 3",
   "language": "python",
   "name": "python3"
  },
  "language_info": {
   "codemirror_mode": {
    "name": "ipython",
    "version": 3
   },
   "file_extension": ".py",
   "mimetype": "text/x-python",
   "name": "python",
   "nbconvert_exporter": "python",
   "pygments_lexer": "ipython3",
   "version": "3.6.1"
  }
 },
 "nbformat": 4,
 "nbformat_minor": 2
}
