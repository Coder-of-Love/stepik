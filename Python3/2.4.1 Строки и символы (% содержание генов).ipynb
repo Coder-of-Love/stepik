{
 "cells": [
  {
   "cell_type": "markdown",
   "metadata": {},
   "source": [
    "GC-состав является важной характеристикой геномных последовательностей и определяется как процентное соотношение суммы всех гуанинов и цитозинов к общему числу нуклеиновых оснований в геномной последовательности. \n",
    "\n",
    "Напишите программу, которая вычисляет процентное содержание символов G (гуанин) и C (цитозин) в введенной строке (программа не должна зависеть от регистра вводимых символов).\n",
    "\n",
    "Например, в строке \"acggtgttat\" процентное содержание символов G и C равно (4/10)⋅100=40.0, где 4 -- это количество символов G и C,  а 10 -- это длина строки."
   ]
  },
  {
   "cell_type": "code",
   "execution_count": null,
   "metadata": {},
   "outputs": [],
   "source": [
    "#мое\n",
    "\n",
    "genome = input().upper()\n",
    "\n",
    "quantity = ((genome.count('G') + genome.count('C')) / len(genome)) * 100\n",
    "print(quantity)"
   ]
  },
  {
   "cell_type": "code",
   "execution_count": null,
   "metadata": {},
   "outputs": [],
   "source": [
    "#чужое, более узкое решение через удаление генов А,Т\n",
    "\n",
    "gen = input().lower()\n",
    "cg = gen.replace('a', '').replace('t', '')\n",
    "print(100 * len(cg) / len(gen))"
   ]
  },
  {
   "cell_type": "code",
   "execution_count": null,
   "metadata": {},
   "outputs": [],
   "source": [
    "#чужое, через регулярное выражение findall и мн-во значений\n",
    "\n",
    "import re\n",
    "x = input()\n",
    "print(len(re.findall(\"(c|C|g|G)\", x)) / len(x) * 100)"
   ]
  },
  {
   "cell_type": "code",
   "execution_count": null,
   "metadata": {},
   "outputs": [],
   "source": [
    "#чужое, через кол-во вхождений\n",
    "\n",
    "s = input()\n",
    "\n",
    "c = 0\n",
    "\n",
    "for ch in s:\n",
    "    if (\"gcGC\".find(ch) != -1): # лучше было бы if ch in \"gcGC\"\n",
    "        c += 1\n",
    "\n",
    "print(c / len(s) * 100)"
   ]
  },
  {
   "cell_type": "code",
   "execution_count": null,
   "metadata": {},
   "outputs": [],
   "source": [
    "#чужое, через сумму с условием в индексации\n",
    "\n",
    "a = input().lower()\n",
    "print(sum([(i == 'c') or (i == 'g') for i in a]) * 100 / len(a))"
   ]
  },
  {
   "cell_type": "code",
   "execution_count": null,
   "metadata": {},
   "outputs": [],
   "source": [
    "#чужое, через лямбда ф-цию, в 1 строку\n",
    "\n",
    "print((lambda a: (a.count('C') + a.count('G')) / len(a) * 100)(str(input()).upper()))"
   ]
  },
  {
   "cell_type": "code",
   "execution_count": null,
   "metadata": {},
   "outputs": [],
   "source": [
    "#чужое, через exec, не совсем в 1 строку\n",
    "\n",
    "exec(\"s = input().upper()\\nprint((s.count('G') + s.count('C'))/len(s) * 100)\")"
   ]
  }
 ],
 "metadata": {
  "kernelspec": {
   "display_name": "Python 3",
   "language": "python",
   "name": "python3"
  },
  "language_info": {
   "codemirror_mode": {
    "name": "ipython",
    "version": 3
   },
   "file_extension": ".py",
   "mimetype": "text/x-python",
   "name": "python",
   "nbconvert_exporter": "python",
   "pygments_lexer": "ipython3",
   "version": "3.6.1"
  }
 },
 "nbformat": 4,
 "nbformat_minor": 2
}
