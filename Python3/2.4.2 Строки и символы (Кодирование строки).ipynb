{
 "cells": [
  {
   "cell_type": "markdown",
   "metadata": {},
   "source": [
    "Узнав, что ДНК не является случайной строкой, только что поступившие в Институт биоинформатики студенты группы информатиков предложили использовать алгоритм сжатия, который сжимает повторяющиеся символы в строке.\n",
    "\n",
    "Кодирование осуществляется следующим образом:\n",
    "s = 'aaaabbсaa' преобразуется в 'a4b2с1a2', то есть группы одинаковых символов исходной строки заменяются на этот символ и количество его повторений в этой позиции строки.\n",
    "\n",
    "Напишите программу, которая считывает строку, кодирует её предложенным алгоритмом и выводит закодированную последовательность на стандартный вывод. Кодирование должно учитывать регистр символов."
   ]
  },
  {
   "cell_type": "code",
   "execution_count": null,
   "metadata": {},
   "outputs": [],
   "source": [
    "#мое, слишком сложное\n",
    "\n",
    "s = input()\n",
    "\n",
    "while(len(s) == 0):\n",
    "    print(\"Stop right there, criminal scum!\\nEnter the sequence!\")\n",
    "    s = input()\n",
    "\n",
    "i = 0\n",
    "seqs = \"\" \n",
    "\n",
    "while True:\n",
    "    \n",
    "    if (len(s) == 1):\n",
    "        seqs = s + '1'\n",
    "        break\n",
    "      \n",
    "    ti = i\n",
    "    count = 1\n",
    "    while (s[ti] == s[i+1]):\n",
    "        count += 1\n",
    "        i += 1\n",
    "        if (i == len(s) - 1):\n",
    "            break\n",
    "    if (count > 1):\n",
    "        seqs += s[ti] + str(count)\n",
    "        i += 1\n",
    "        if (i == len(s) - 1):\n",
    "            seqs += s[i] + '1'\n",
    "        \n",
    "    if (i + 1 <= len(s) - 1 and s[i] != s[i+1]):\n",
    "        seqs += s[i] + '1'\n",
    "        i += 1\n",
    "        if (i == len(s) - 1):\n",
    "            seqs += s[i] + '1'\n",
    "            break\n",
    "\n",
    "    if (i >= len(s) - 1):\n",
    "        break\n",
    "            \n",
    "print(seqs)"
   ]
  },
  {
   "cell_type": "code",
   "execution_count": null,
   "metadata": {},
   "outputs": [],
   "source": [
    "#от модератора\n",
    "\n",
    "genome = input()+' '\n",
    "s = 0\n",
    "n=genome[0]\n",
    "for i in genome:       \n",
    "    if n!=i:\n",
    "        print(n + str(s), end = '')\n",
    "        s=0\n",
    "        n=i\n",
    "    s+=1"
   ]
  },
  {
   "cell_type": "code",
   "execution_count": null,
   "metadata": {},
   "outputs": [],
   "source": [
    "#чужое, с пояснениями\n",
    "\n",
    "dna = input()                    # считываем строку\n",
    "print(dna[0],end='')             # выводим первый символ\n",
    "cnt = 1                          # счетчик символов на единице\n",
    "for i in range(0,len(dna)-1):    # итератор проходит по всем индексам символов кроме предпоследнего\n",
    "    if dna[i] == dna[i+1]:       # сравниваем символ по текущему индексу со следующим\n",
    "        cnt+=1                   # если символы одинаковые, то увеличиваем счетчик\n",
    "    else :\n",
    "        print(cnt,end='')        # если разные, то выводим значение счетчика\n",
    "        print(dna[i+1],end='')   # выводим следующий символ\n",
    "        cnt = 1                  # счетчик текущего символа на единице\n",
    "print(cnt)                       # в конце распечатываем значение счетчика последнего символа"
   ]
  },
  {
   "cell_type": "code",
   "execution_count": null,
   "metadata": {},
   "outputs": [],
   "source": [
    "#чужое, в 1 строку\n",
    "\n",
    "from itertools import groupby\n",
    "print(''.join(f'{char}{len(list(group))}' for char, group in groupby(input())))"
   ]
  }
 ],
 "metadata": {
  "kernelspec": {
   "display_name": "Python 3",
   "language": "python",
   "name": "python3"
  },
  "language_info": {
   "codemirror_mode": {
    "name": "ipython",
    "version": 3
   },
   "file_extension": ".py",
   "mimetype": "text/x-python",
   "name": "python",
   "nbconvert_exporter": "python",
   "pygments_lexer": "ipython3",
   "version": "3.6.1"
  }
 },
 "nbformat": 4,
 "nbformat_minor": 2
}
