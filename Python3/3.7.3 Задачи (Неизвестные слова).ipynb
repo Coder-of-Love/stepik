{
 "cells": [
  {
   "cell_type": "markdown",
   "metadata": {},
   "source": [
    "Простейшая система проверки орфографии основана на использовании списка известных слов. Каждое слово в проверяемом тексте ищется в этом списке и, если такое слово не найдено, оно помечается, как ошибочное.\n",
    "\n",
    "Напишем подобную систему.\n",
    "\n",
    "Через стандартный ввод подаётся следующая структура: первой строкой — количество d записей в списке известных слов, после передаётся  d строк с одним словарным словом на строку, затем — количество l строк текста, после чего — l строк текста.\n",
    "\n",
    "Напишите программу, которая выводит слова из текста, которые не встречаются в словаре. Регистр слов не учитывается. Порядок вывода слов произвольный. Слова, не встречающиеся в словаре, не должны повторяться в выводе программы.\n",
    "\n",
    "Sample Input:\n",
    "3\n",
    "a\n",
    "bb\n",
    "cCc\n",
    "2\n",
    "a bb aab aba ccc\n",
    "c bb aaa\n",
    "\n",
    "Sample Output:\n",
    "aab\n",
    "aba\n",
    "c\n",
    "aaa"
   ]
  },
  {
   "cell_type": "code",
   "execution_count": null,
   "metadata": {},
   "outputs": [],
   "source": [
    "#мое\n",
    "\n",
    "known_words_set = set()\n",
    "for _ in range(int(input())):\n",
    "    known_words_set.add(input().lower())\n",
    "    \n",
    "text_set = set()\n",
    "for _ in range(int(input())):\n",
    "    for word in input().split():\n",
    "        text_set.add(word.lower())\n",
    "\n",
    "print(*(text_set - known_words_set), sep = '\\n')"
   ]
  },
  {
   "cell_type": "code",
   "execution_count": null,
   "metadata": {},
   "outputs": [],
   "source": [
    "#от модератора, самое популярное\n",
    "\n",
    "# формируем множество известных слов на основании построчного ввода\n",
    "dic = {input().lower() for _ in range(int(input()))}\n",
    "\n",
    "# заводим пустое множество для приема текста\n",
    "wrd = set()\n",
    "\n",
    "# т.к. текст построчно подается, а также в каждой строке несколько слов,\n",
    "# то каждую строку превращаем во множество и добавляем в единое множество wrd\n",
    "for _ in range(int(input())):\n",
    "    wrd |= {i.lower() for i in input().split()}\n",
    "\n",
    "# на вывод отправляем результат вычитания словарного множества dic\n",
    "# из текстового множества wrd; впереди ставим *, чтобы раскрыть поэлементно\n",
    "print(*(wrd-dic), sep=\"\\n\")"
   ]
  },
  {
   "cell_type": "code",
   "execution_count": null,
   "metadata": {},
   "outputs": [],
   "source": [
    "#чужое, через генераторы\n",
    "\n",
    "d = [input().lower() for x in range(int(input()))]\n",
    "[print(x) for x in set([i for s in [input().lower().split() for x in range(int(input()))] for i in s]).difference(d)]"
   ]
  }
 ],
 "metadata": {
  "kernelspec": {
   "display_name": "Python 3",
   "language": "python",
   "name": "python3"
  },
  "language_info": {
   "codemirror_mode": {
    "name": "ipython",
    "version": 3
   },
   "file_extension": ".py",
   "mimetype": "text/x-python",
   "name": "python",
   "nbconvert_exporter": "python",
   "pygments_lexer": "ipython3",
   "version": "3.6.1"
  }
 },
 "nbformat": 4,
 "nbformat_minor": 2
}
