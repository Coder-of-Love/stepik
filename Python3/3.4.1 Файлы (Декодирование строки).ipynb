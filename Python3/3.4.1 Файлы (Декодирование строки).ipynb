{
 "cells": [
  {
   "cell_type": "markdown",
   "metadata": {},
   "source": [
    "Напишите программу, которая считывает из файла строку, соответствующую тексту, сжатому с помощью кодирования повторов, и производит обратную операцию, получая исходный текст.\n",
    "\n",
    "Запишите полученный текст в файл и прикрепите его, как ответ на это задание.\n",
    "\n",
    "В исходном тексте не встречаются цифры, так что код однозначно интерпретируем.\n",
    "\n",
    "Примечание. Это первое задание типа Dataset Quiz. В таких заданиях после нажатия \"Start Quiz\" у вас появляется ссылка \"download your dataset\". Используйте эту ссылку для того, чтобы загрузить файл со входными данными к себе на компьютер. Запустите вашу программу, используя этот файл в качестве входных данных. Выходной файл, который при этом у вас получится, надо отправить в качестве ответа на эту задачу. \n",
    "\n",
    "Sample Input:\n",
    "a3b4c2e10b1\n",
    "\n",
    "Sample Output:\n",
    "aaabbbbcceeeeeeeeeeb"
   ]
  },
  {
   "cell_type": "code",
   "execution_count": null,
   "metadata": {},
   "outputs": [],
   "source": [
    "#мое, основательное, через разделение на 2 списка\n",
    "\n",
    "import os\n",
    "\n",
    "def decode_str(s):\n",
    "    decoded, num = \"\", \"\"\n",
    "    ch_list, num_list = [], []\n",
    "    \n",
    "    for i in range(len(s)):\n",
    "        if s[i].isalpha():\n",
    "            ch_list.append(s[i])\n",
    "            continue\n",
    "        elif s[i].isnumeric():\n",
    "            num = num*(s[i-1].isnumeric()) + s[i]\n",
    "            if (i == len(s) - 1 or s[i+1].isalpha()):\n",
    "                num_list.append(int(num))\n",
    "    \n",
    "    for i in range(len(num_list)):\n",
    "        decoded += ch_list[i]*num_list[i]\n",
    "    \n",
    "    return decoded\n",
    "\n",
    "pathin = os.getcwd() + \"/dataset_3363_2.txt\"\n",
    "pathout = os.getcwd() + \"/decoded_dataset_3363_2.txt\"\n",
    "\n",
    "with open(pathin) as rf:\n",
    "    decoded_file = decode_str(rf.read())\n",
    "\n",
    "with open(pathout, 'w') as wf:\n",
    "    wf.write(decoded_file)"
   ]
  },
  {
   "cell_type": "code",
   "execution_count": null,
   "metadata": {},
   "outputs": [],
   "source": [
    "#чужое, через базовые конструкции языка\n",
    "\n",
    "with open('dataset_3363_2.txt', 'r') as f:\n",
    "    s = f.readline().strip()\n",
    "i = 0\n",
    "while i < len(s):\n",
    "    j = i + 1\n",
    "    while j < len(s) and s[j].isdigit():\n",
    "        j += 1\n",
    "    print(s[i] * int(s[i+1:j]), end='')\n",
    "    i = j"
   ]
  },
  {
   "cell_type": "code",
   "execution_count": null,
   "metadata": {},
   "outputs": [],
   "source": [
    "#чужое, через регулярные выражения\n",
    "\n",
    "import re                         \n",
    "                                  \n",
    "vyvod = ''\n",
    "with open(\"C:/Users/пк/desktop/test.txt\") as file:   \n",
    "    line = file.readline().strip()         \n",
    "    bukvi = re.findall(r'\\D', line)\n",
    "    cifri = re.findall(r'\\d+', line)\n",
    "    for i in range(len(bukvi)):                \n",
    "        vyvod+= str(bukvi[i])*int(cifri[i])\n",
    "    \n",
    "with open(\"C:/Users/пк/desktop/test2.txt\", 'w') as outfile: outfile.write(vyvod)"
   ]
  },
  {
   "cell_type": "code",
   "execution_count": null,
   "metadata": {},
   "outputs": [],
   "source": [
    "#чужое, ловкое\n",
    "\n",
    "s, d = input(), []\n",
    "for i in s:\n",
    "    if not i.isdigit(): d.append(i)\n",
    "    else: d[-1] += i\n",
    "print(*[i[0]*int(i[1:]) for i in d], sep='')"
   ]
  },
  {
   "cell_type": "code",
   "execution_count": null,
   "metadata": {},
   "outputs": [],
   "source": [
    "#чужое, через регулярные выражения\n",
    "\n",
    "import re\n",
    "with open('dataset_3363_2.txt', \"r\") as input_s:\n",
    "    a = re.split('(\\d+)', input_s.readline())\n",
    "    b = (''.join(i[1] * int(i[0]) for i in zip(a[1::2], a[::2])))\n",
    "    with open(\"3.4.3.txt\", \"w\") as out_s:\n",
    "        out_s.write(b)"
   ]
  },
  {
   "cell_type": "code",
   "execution_count": null,
   "metadata": {},
   "outputs": [],
   "source": [
    "#чужое, через регулярные выражения и паттерны\n",
    "\n",
    "import re\n",
    "\n",
    "def repl(m):\n",
    "    return m.group(1) * int(m.group(2))\n",
    "\n",
    "with open('input.txt', 'r') as data:\n",
    "    s = data.read()\n",
    "    s = s.rstrip()\n",
    "\n",
    "pattern = r'(\\w)(\\d+)'\n",
    "s = re.sub(pattern, repl, s)\n",
    "\n",
    "with open('output.txt', 'w') as data:\n",
    "    data.write(s)"
   ]
  },
  {
   "cell_type": "code",
   "execution_count": null,
   "metadata": {},
   "outputs": [],
   "source": [
    "#чужое, через регулярные выражения\n",
    "\n",
    "import re\n",
    "with open('dataset_3363_2.txt') as file:\n",
    "    t = file.readline()\n",
    "for i in re.compile(r\"(\\w)(\\d+)\").finditer(t):\n",
    "    print (i.group(1) * int(i.group(2)), end=\"\")"
   ]
  }
 ],
 "metadata": {
  "kernelspec": {
   "display_name": "Python 3",
   "language": "python",
   "name": "python3"
  },
  "language_info": {
   "codemirror_mode": {
    "name": "ipython",
    "version": 3
   },
   "file_extension": ".py",
   "mimetype": "text/x-python",
   "name": "python",
   "nbconvert_exporter": "python",
   "pygments_lexer": "ipython3",
   "version": "3.6.1"
  }
 },
 "nbformat": 4,
 "nbformat_minor": 2
}
