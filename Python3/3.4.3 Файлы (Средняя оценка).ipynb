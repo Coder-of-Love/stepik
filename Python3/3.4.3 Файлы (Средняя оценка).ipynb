{
 "cells": [
  {
   "cell_type": "markdown",
   "metadata": {},
   "source": [
    "Имеется файл с данными по успеваемости абитуриентов. Он представляет из себя набор строк, где в каждой строке записана следующая информация:\n",
    "\n",
    "Фамилия;Оценка_по_математике;Оценка_по_физике;Оценка_по_русскому_языку\n",
    "\n",
    "Поля внутри строки разделены точкой с запятой, оценки — целые числа.\n",
    "\n",
    "Напишите программу, которая считывает файл с подобной структурой и для каждого абитуриента выводит его среднюю оценку по этим трём предметам на отдельной строке, соответствующей этому абитуриенту.\n",
    "\n",
    "Также в конце файла, на отдельной строке, через пробел запишите средние баллы по математике, физике и русскому языку по всем абитуриентам:\n",
    "\n",
    "Примечание. Для разбиения строки на части по символу ';' можно использовать метод split следующим образом: \n",
    "\n",
    "print('First;Second-1 Second-2;Third'.split(';'))\n",
    "['First', 'Second-1 Second-2', 'Third']\n",
    "\n",
    "Sample Input:\n",
    "Петров;85;92;78\n",
    "Сидоров;100;88;94\n",
    "Иванов;58;72;85\n",
    "\n",
    "Sample Output:\n",
    "85.0\n",
    "94.0\n",
    "71.666666667\n",
    "81.0 84.0 85.666666667"
   ]
  },
  {
   "cell_type": "code",
   "execution_count": 16,
   "metadata": {},
   "outputs": [],
   "source": [
    "#мое\n",
    "\n",
    "import os\n",
    "\n",
    "ave = [0 for i in range(3)]\n",
    "lw = []\n",
    "c = 0\n",
    "\n",
    "pathin = os.getcwd() + \"/dataset_3363_4.txt\"\n",
    "pathout = os.getcwd() + \"/analyzed_dataset_3363_4.txt\"\n",
    "\n",
    "with open(pathin) as file:\n",
    "    for line in file:\n",
    "        c += 1\n",
    "        ll = line.split(';')\n",
    "        lw.append((int(ll[1]) + int(ll[2]) + int(ll[3]))/3)\n",
    "        for i in range(len(ave)):\n",
    "            ave[i] += int(ll[i+1])\n",
    "    \n",
    "    for i in range(len(ave)):\n",
    "        ave[i] /= c\n",
    "\n",
    "with open(pathout, 'w') as file:\n",
    "    for item in lw:\n",
    "        file.write(str(item) + '\\n')\n",
    "    \n",
    "    for item in ave:\n",
    "        file.write(str(item) + ' ')"
   ]
  },
  {
   "cell_type": "code",
   "execution_count": null,
   "metadata": {},
   "outputs": [],
   "source": [
    "#чужое, компактное\n",
    "\n",
    "st = [x.split(';') for x in open('fl.txt').readlines()]\n",
    "print(*[sum([int(y) for y in x[1:]])/3 for x in st], sep='\\n')\n",
    "print(*[sum([int(y) for y in [st[x][z] for x in range(len(st))]])/len(st) for z in range(1,4)])"
   ]
  },
  {
   "cell_type": "code",
   "execution_count": null,
   "metadata": {},
   "outputs": [],
   "source": [
    "#чужое, с помощью модуля статистика\n",
    "\n",
    "import sys\n",
    "import statistics\n",
    "f = sys.stdin\n",
    "l = [list(map(float, l.strip().split(\";\")[1:])) for l in f]\n",
    "print(*[statistics.mean(s) for s in l], sep=\"\\n\")\n",
    "print(*[statistics.mean(i) for i in zip(*l)])"
   ]
  },
  {
   "cell_type": "code",
   "execution_count": null,
   "metadata": {},
   "outputs": [],
   "source": [
    "#чужое, через пандас\n",
    "\n",
    "import pandas as pd\n",
    "\n",
    "df = pd.read_csv('dataset_3363_4.txt', sep=';', names=['Фамилия','Математика', 'Физика', 'Русский язык'])\n",
    "mat = df['Математика'].mean()\n",
    "\n",
    "phis = df['Физика'].mean()\n",
    "\n",
    "rus = df['Русский язык'].mean()\n",
    "\n",
    "df['Среднее ученика'] = (df['Математика'] + df['Физика'] + df['Русский язык']) / 3\n",
    "\n",
    "mean_learn = df['Среднее ученика']\n",
    "\n",
    "with open('result.txt', 'w') as file:\n",
    "    for value in mean_learn:\n",
    "        file.write(str(value)+'\\n')\n",
    "    file.write(str(mat)+' '+str(phis)+' '+str(rus))"
   ]
  }
 ],
 "metadata": {
  "kernelspec": {
   "display_name": "Python 3",
   "language": "python",
   "name": "python3"
  },
  "language_info": {
   "codemirror_mode": {
    "name": "ipython",
    "version": 3
   },
   "file_extension": ".py",
   "mimetype": "text/x-python",
   "name": "python",
   "nbconvert_exporter": "python",
   "pygments_lexer": "ipython3",
   "version": "3.6.1"
  }
 },
 "nbformat": 4,
 "nbformat_minor": 2
}
