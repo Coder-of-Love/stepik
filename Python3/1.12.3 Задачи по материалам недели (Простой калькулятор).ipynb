{
 "cells": [
  {
   "cell_type": "markdown",
   "metadata": {},
   "source": [
    "Напишите простой калькулятор, который считывает с пользовательского ввода три строки: первое число, второе число и операцию, после чего применяет операцию к введённым числам (\"первое число\" \"операция\" \"второе число\") и выводит результат на экран.\n",
    "\n",
    "Поддерживаемые операции: +, -, /, *, mod, pow, div, где \n",
    "mod — это взятие остатка от деления, \n",
    "pow — возведение в степень, \n",
    "div — целочисленное деление.\n",
    "\n",
    "Если выполняется деление и второе число равно 0, необходимо выводить строку \"Деление на 0!\".\n",
    "Обратите внимание, что на вход программе приходят вещественные числа."
   ]
  },
  {
   "cell_type": "code",
   "execution_count": null,
   "metadata": {},
   "outputs": [],
   "source": [
    "#моё, влоб, 3 строка понадобилась для степика\n",
    "a,b = (float(input()) for _ in range (2))\n",
    "op = input()\n",
    "res = 0\n",
    "\n",
    "if (op == '+'):\n",
    "    res = (a + b)\n",
    "elif (op == '-'):\n",
    "    res = (a - b)\n",
    "elif (op == '/'):\n",
    "    if (b != 0):\n",
    "        res = (a / b)\n",
    "    else:\n",
    "        res = 'Деление на 0!'\n",
    "elif (op == '*'):\n",
    "    res = (a * b)\n",
    "elif (op == 'mod'):\n",
    "    if (b != 0):\n",
    "        res = (a % b)\n",
    "    else: \n",
    "        res = 'Деление на 0!'\n",
    "elif (op == 'pow'):\n",
    "    res = (a ** b)\n",
    "elif (op == 'div'):\n",
    "    if (b != 0):\n",
    "        res = (a // b)\n",
    "    else:\n",
    "        res = 'Деление на 0!'\n",
    "\n",
    "print(res)\n"
   ]
  },
  {
   "cell_type": "code",
   "execution_count": null,
   "metadata": {},
   "outputs": [],
   "source": [
    "#чужое, с помощью ф-ции eval и try/except\n",
    "\n",
    "first = float(input())\n",
    "second = float(input())\n",
    "action = input()\n",
    "operations = {\"mod\": \"%\", \"div\": \"//\", \"pow\": \"**\"}\n",
    "try:\n",
    "    print(eval(\"(\" + str(first) + \")\" + operations.get(action, action) + str(second)))\n",
    "except ZeroDivisionError:\n",
    "    print('Деление на 0!')"
   ]
  },
  {
   "cell_type": "code",
   "execution_count": null,
   "metadata": {},
   "outputs": [],
   "source": [
    "#чужое, через словарь с методами\n",
    "\n",
    "operations = {\n",
    "      \"+\": lambda x, y: x + y,\n",
    "      \"-\": lambda x, y: x - y,\n",
    "      \"/\": lambda x, y: x / y,\n",
    "      \"*\": lambda x, y: x * y,\n",
    "      \"mod\": lambda x, y: x % y,\n",
    "      \"pow\": lambda x, y: x ** y,\n",
    "      \"div\": lambda x, y: x // y\n",
    "}\n",
    "\n",
    "x, y = float(input()), float(input())\n",
    "operation = input()\n",
    "\n",
    "if operation in [\"mod\", \"div\", \"/\"] and y == 0:\n",
    "    print(\"Деление на 0!\")\n",
    "else:\n",
    "    print(operations[operation](x, y))"
   ]
  },
  {
   "cell_type": "code",
   "execution_count": null,
   "metadata": {},
   "outputs": [],
   "source": [
    "#чужое, через try/except\n",
    "\n",
    "try:\n",
    "    print (eval((('({0}){2}{1}').format(input(), input(), input())\n",
    "                                .replace('mod','%')\n",
    "                                .replace('pow','**')\n",
    "                                .replace('div','//'))))\n",
    "except ZeroDivisionError:\n",
    "    print('Деление на 0!')\n"
   ]
  },
  {
   "cell_type": "code",
   "execution_count": null,
   "metadata": {},
   "outputs": [],
   "source": [
    "#от модератора\n",
    "\n",
    "a = float(input())\n",
    "b = float(input())\n",
    "act = input()\n",
    "\n",
    "if (act==\"/\" or act==\"mod\" or act==\"div\") and b==0:\n",
    "    c = \"Деление на 0!\"\n",
    "elif act==\"+\":    c = a + b\n",
    "elif act==\"-\":    c = a - b\n",
    "elif act==\"/\":    c = a / b\n",
    "elif act==\"*\":    c = a * b\n",
    "elif act==\"mod\":  c = a % b\n",
    "elif act==\"pow\":  c = a ** b\n",
    "elif act==\"div\":  c = a // b\n",
    "\n",
    "print (c)"
   ]
  }
 ],
 "metadata": {
  "kernelspec": {
   "display_name": "Python 3",
   "language": "python",
   "name": "python3"
  },
  "language_info": {
   "codemirror_mode": {
    "name": "ipython",
    "version": 3
   },
   "file_extension": ".py",
   "mimetype": "text/x-python",
   "name": "python",
   "nbconvert_exporter": "python",
   "pygments_lexer": "ipython3",
   "version": "3.6.1"
  }
 },
 "nbformat": 4,
 "nbformat_minor": 2
}
