{
 "cells": [
  {
   "cell_type": "markdown",
   "metadata": {},
   "source": [
    "Вам дается текстовый файл, содержащий некоторое количество непустых строк.\n",
    "На основе него сгенерируйте новый текстовый файл, содержащий те же строки в обратном порядке.\n",
    "\n",
    "Пример входного файла:\n",
    "ab\n",
    "c\n",
    "dde\n",
    "ff\n",
    "\n",
    "Пример выходного файла:\n",
    "ff\n",
    "dde\n",
    "c\n",
    "ab"
   ]
  },
  {
   "cell_type": "code",
   "execution_count": null,
   "metadata": {},
   "outputs": [],
   "source": [
    "#мое\n",
    "\n",
    "path = 'dataset_24465_4.txt'\n",
    "res = 'new_dataset_24465_4.txt'\n",
    "with open(path, 'r') as r, open(res, 'w') as w:\n",
    "    lines = r.read().split()\n",
    "    w.write('\\n'.join(lines[::-1]))"
   ]
  },
  {
   "cell_type": "code",
   "execution_count": null,
   "metadata": {},
   "outputs": [],
   "source": [
    "#чужое, самое популярное\n",
    "\n",
    "with open('dataset_24465_4.txt', 'r') as fr, open('dataset_24465_4_w.txt', 'w') as fw:\n",
    "    fw.writelines(fr.readlines()[::-1])"
   ]
  },
  {
   "cell_type": "code",
   "execution_count": null,
   "metadata": {},
   "outputs": [],
   "source": [
    "#чужое, минималистичное\n",
    "\n",
    "print(*reversed(open(\"sample.txt\").readlines()), sep=\"\")"
   ]
  },
  {
   "cell_type": "code",
   "execution_count": null,
   "metadata": {},
   "outputs": [],
   "source": [
    "#чужое\n",
    "\n",
    "lines = open(\"input.txt\").readlines()\n",
    "with open(\"output.txt\", \"w\") as out:\n",
    "    out.writelines(reversed(lines))"
   ]
  }
 ],
 "metadata": {
  "kernelspec": {
   "display_name": "Python 3",
   "language": "python",
   "name": "python3"
  },
  "language_info": {
   "codemirror_mode": {
    "name": "ipython",
    "version": 3
   },
   "file_extension": ".py",
   "mimetype": "text/x-python",
   "name": "python",
   "nbconvert_exporter": "python",
   "pygments_lexer": "ipython3",
   "version": "3.6.1"
  }
 },
 "nbformat": 4,
 "nbformat_minor": 2
}
