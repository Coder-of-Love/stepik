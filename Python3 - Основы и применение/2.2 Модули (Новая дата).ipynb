{
 "cells": [
  {
   "cell_type": "markdown",
   "metadata": {},
   "source": [
    "В первой строке дано три числа, соответствующие некоторой дате date -- год, месяц и день.\n",
    "Во второй строке дано одно число days -- число дней.\n",
    "\n",
    "Вычислите и выведите год, месяц и день даты, которая наступит, когда с момента исходной даты date пройдет число дней, равное days.\n",
    "\n",
    "Примечание:\n",
    "Для решения этой задачи используйте стандартный модуль datetime.\n",
    "Вам будут полезны класс datetime.date для хранения даты и класс datetime.timedelta﻿ для прибавления дней к дате.\n",
    "\n",
    "Sample Input 1:\n",
    "2016 4 20\n",
    "14\n",
    "\n",
    "Sample Output 1:\n",
    "2016 5 4\n",
    "\n",
    "Sample Input 2:\n",
    "2016 2 20\n",
    "9\n",
    "\n",
    "Sample Output 2:\n",
    "2016 2 29\n",
    "\n",
    "Sample Input 3:\n",
    "2015 12 31\n",
    "1\n",
    "\n",
    "Sample Output 3:\n",
    "2016 1 1"
   ]
  },
  {
   "cell_type": "code",
   "execution_count": null,
   "metadata": {},
   "outputs": [],
   "source": [
    "#мое\n",
    "\n",
    "import datetime\n",
    "\n",
    "mp = list(map(int, input().split()))\n",
    "date = datetime.date(year = mp[0], month = mp[1], day = mp[2]) + datetime.timedelta(days = int(input()))\n",
    "\n",
    "print(date.year, date.month, date.day)"
   ]
  },
  {
   "cell_type": "code",
   "execution_count": null,
   "metadata": {},
   "outputs": [],
   "source": [
    "#чужое, самое популярное, с умелым форматированием\n",
    "\n",
    "import datetime\n",
    "inp = datetime.datetime.strptime(input(), \"%Y %m %d\")\n",
    "inp += datetime.timedelta(days=int(input())) \n",
    "print(f'{inp.year} {inp.month} {inp.day}')"
   ]
  },
  {
   "cell_type": "code",
   "execution_count": null,
   "metadata": {},
   "outputs": [],
   "source": [
    "#от модератора\n",
    "\n",
    "import datetime\n",
    "\n",
    "y, m, d = map(int, input().split())\n",
    "days = int(input())\n",
    "\n",
    "current = datetime.date(year=y, month=m, day=d)\n",
    "current += datetime.timedelta(days=days)\n",
    "\n",
    "print(\"{} {} {}\".format(current.year, current.month, current.day))"
   ]
  },
  {
   "cell_type": "code",
   "execution_count": null,
   "metadata": {},
   "outputs": [],
   "source": [
    "#чужое, минималистичное\n",
    "\n",
    "from datetime import datetime, timedelta\n",
    "print((datetime.strptime(input().strip(), \"%Y %m %d\") + timedelta(int(input().strip()))).strftime(\"%Y %-m %-d\"))"
   ]
  }
 ],
 "metadata": {
  "kernelspec": {
   "display_name": "Python 3",
   "language": "python",
   "name": "python3"
  },
  "language_info": {
   "codemirror_mode": {
    "name": "ipython",
    "version": 3
   },
   "file_extension": ".py",
   "mimetype": "text/x-python",
   "name": "python",
   "nbconvert_exporter": "python",
   "pygments_lexer": "ipython3",
   "version": "3.6.1"
  }
 },
 "nbformat": 4,
 "nbformat_minor": 2
}
