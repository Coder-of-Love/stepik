{
 "cells": [
  {
   "cell_type": "markdown",
   "metadata": {},
   "source": [
    "Вам дана последовательность строк.\n",
    "Выведите строки, содержащие \"cat\" в качестве слова.\n",
    "\n",
    "Sample Input:\n",
    "cat\n",
    "catapult and cat\n",
    "catcat\n",
    "concat\n",
    "Cat\n",
    "\"cat\"\n",
    "!cat?\n",
    "\n",
    "Sample Output:\n",
    "cat\n",
    "catapult and cat\n",
    "\"cat\"\n",
    "!cat?"
   ]
  },
  {
   "cell_type": "code",
   "execution_count": 1,
   "metadata": {},
   "outputs": [],
   "source": [
    "import sys\n",
    "import re\n",
    "\n",
    "\n",
    "for line in sys.stdin:\n",
    "    line = line.rstrip()\n",
    "    if re.search(r\"\\bcat\\b\", line):\n",
    "        print(line)"
   ]
  }
 ],
 "metadata": {
  "kernelspec": {
   "display_name": "Python 3",
   "language": "python",
   "name": "python3"
  },
  "language_info": {
   "codemirror_mode": {
    "name": "ipython",
    "version": 3
   },
   "file_extension": ".py",
   "mimetype": "text/x-python",
   "name": "python",
   "nbconvert_exporter": "python",
   "pygments_lexer": "ipython3",
   "version": "3.7.3"
  }
 },
 "nbformat": 4,
 "nbformat_minor": 2
}
