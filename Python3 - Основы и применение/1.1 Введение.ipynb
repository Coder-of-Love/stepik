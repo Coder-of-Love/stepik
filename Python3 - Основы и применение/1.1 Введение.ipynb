{
 "cells": [
  {
   "cell_type": "markdown",
   "metadata": {},
   "source": [
    "Реализуйте программу, которая принимает последовательность чисел и выводит их сумму.\n",
    "\n",
    "Вашей программе на вход подается последовательность строк.\n",
    "Первая строка содержит число n (1 ≤ n ≤ 100).\n",
    "В следующих n строках содержится по одному целому числу.\n",
    "\n",
    "Выведите одно число – сумму данных n чисел."
   ]
  },
  {
   "cell_type": "code",
   "execution_count": null,
   "metadata": {},
   "outputs": [],
   "source": [
    "#мое, влоб\n",
    "\n",
    "n = int(input())\n",
    "SUM = 0\n",
    "\n",
    "for i in range(n):\n",
    "    SUM += int(input())\n",
    "\n",
    "print(SUM)"
   ]
  },
  {
   "cell_type": "code",
   "execution_count": null,
   "metadata": {},
   "outputs": [],
   "source": [
    "#чужое, в 1 строку\n",
    "\n",
    "print(sum([int(input()) for i in range(int(input()))]))"
   ]
  },
  {
   "cell_type": "code",
   "execution_count": null,
   "metadata": {},
   "outputs": [],
   "source": [
    "#чужое, через map\n",
    "\n",
    "import sys\n",
    "\n",
    "n = sys.stdin.readline()\n",
    "data = map(int, sys.stdin.read().split('\\n'))\n",
    "print(sum(data))"
   ]
  },
  {
   "cell_type": "code",
   "execution_count": null,
   "metadata": {},
   "outputs": [],
   "source": [
    "#чужое, через функциональное программирование и reduce\n",
    "\n",
    "from functools import reduce\n",
    "print(reduce(lambda x,y: x+y, (int(input()) for _ in range(int(input()))), 0))"
   ]
  },
  {
   "cell_type": "code",
   "execution_count": null,
   "metadata": {},
   "outputs": [],
   "source": [
    "#чужое, через while\n",
    "\n",
    "n, res = int(input()), 0\n",
    "while n:\n",
    "  res += int(input())\n",
    "  n -= 1\n",
    "  \n",
    "print(res)"
   ]
  }
 ],
 "metadata": {
  "kernelspec": {
   "display_name": "Python 3",
   "language": "python",
   "name": "python3"
  },
  "language_info": {
   "codemirror_mode": {
    "name": "ipython",
    "version": 3
   },
   "file_extension": ".py",
   "mimetype": "text/x-python",
   "name": "python",
   "nbconvert_exporter": "python",
   "pygments_lexer": "ipython3",
   "version": "3.6.1"
  }
 },
 "nbformat": 4,
 "nbformat_minor": 2
}
