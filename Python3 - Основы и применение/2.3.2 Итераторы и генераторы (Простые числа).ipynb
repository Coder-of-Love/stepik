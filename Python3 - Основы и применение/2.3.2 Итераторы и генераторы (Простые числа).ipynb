{
 "cells": [
  {
   "cell_type": "markdown",
   "metadata": {},
   "source": [
    "Целое положительное число называется простым, если оно имеет ровно два различных делителя, то есть делится только на единицу и на само себя.\n",
    "Например, число 2 является простым, так как делится только на 1 и 2. Также простыми являются, например, числа 3, 5, 31, и еще бесконечно много чисел.\n",
    "Число 4, например, не является простым, так как имеет три делителя – 1, 2, 4. Также простым не является число 1, так как оно имеет ровно один делитель – 1.\n",
    "\n",
    "Реализуйте функцию-генератор primes, которая будет генерировать простые числа в порядке возрастания, начиная с числа 2.\n",
    "\n",
    "Пример использования:\n",
    "\n",
    "print(list(itertools.takewhile(lambda x : x <= 31, primes())))\n",
    "#[2, 3, 5, 7, 11, 13, 17, 19, 23, 29, 31]"
   ]
  },
  {
   "cell_type": "code",
   "execution_count": 7,
   "metadata": {},
   "outputs": [
    {
     "name": "stdout",
     "output_type": "stream",
     "text": [
      "[2, 3, 5, 7, 11, 13, 17, 19, 23, 29, 31]\n"
     ]
    }
   ],
   "source": [
    "#мое\n",
    "\n",
    "import itertools\n",
    "\n",
    "def isPrime(n):\n",
    "    for i in range(2,int(n**0.5)+1):\n",
    "        if n%i==0:\n",
    "            return False\n",
    "\n",
    "    return True\n",
    "\n",
    "def primes():\n",
    "    x = 1\n",
    "    while True:\n",
    "        x += 1\n",
    "        if isPrime(x):\n",
    "            yield x\n",
    "        \n",
    "print(list(itertools.takewhile(lambda x : x <= 31, primes())))"
   ]
  },
  {
   "cell_type": "code",
   "execution_count": null,
   "metadata": {},
   "outputs": [],
   "source": [
    "#чужое, самое популярное, через ф-лу Вильсона\n",
    "\n",
    "def primes():\n",
    "    i, f = 2, 1  # число и факториал предыдущего числа\n",
    "    while True:\n",
    "        if (f + 1) % i == 0:  # проверяем на простоту по теореме Вильсона через факториал\n",
    "            yield i\n",
    "        f, i = f * i, i + 1  # сначала пересчитываем факториал для текущего числа, затем увеличиваем число"
   ]
  },
  {
   "cell_type": "code",
   "execution_count": null,
   "metadata": {},
   "outputs": [],
   "source": [
    "#чужое\n",
    "\n",
    "def primes():\n",
    "    \n",
    "    k = 2\n",
    "    while True:\n",
    "        if all(k % i for i in range(2, int(k ** 0.5) + 1)):\n",
    "            yield k\n",
    "        k += 1"
   ]
  },
  {
   "cell_type": "code",
   "execution_count": null,
   "metadata": {},
   "outputs": [],
   "source": [
    "#от модератора\n",
    "\n",
    "def primes():\n",
    "    i = 2\n",
    "    while True:\n",
    "        is_prime = True\n",
    "        divisor = 2\n",
    "        while divisor ** 2 <= i:\n",
    "            if i % divisor == 0:\n",
    "                is_prime = False # non-trivial divisor\n",
    "                break\n",
    "\n",
    "            divisor += 1\n",
    "\n",
    "        if is_prime:\n",
    "            yield i\n",
    "\n",
    "        i += 1"
   ]
  }
 ],
 "metadata": {
  "kernelspec": {
   "display_name": "Python 3",
   "language": "python",
   "name": "python3"
  },
  "language_info": {
   "codemirror_mode": {
    "name": "ipython",
    "version": 3
   },
   "file_extension": ".py",
   "mimetype": "text/x-python",
   "name": "python",
   "nbconvert_exporter": "python",
   "pygments_lexer": "ipython3",
   "version": "3.6.1"
  }
 },
 "nbformat": 4,
 "nbformat_minor": 2
}
