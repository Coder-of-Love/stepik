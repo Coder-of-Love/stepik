{
 "cells": [
  {
   "cell_type": "markdown",
   "metadata": {},
   "source": [
    "Сочетанием из n элементов по k называется подмножество этих n элементов размера k.\n",
    "Два сочетания называются различными, если одно из сочетаний содержит элемент, который не содержит другое.\n",
    "Числом сочетаний из n по k называется количество различных сочетаний из n по k. Обозначим это число за C(n, k).\n",
    "\n",
    "Пример:\n",
    "Пусть n = 3, т. е. есть три элемента (1, 2, 3). Пусть k = 2.\n",
    "Все различные сочетания из 3 элементов по 2: (1, 2), (1, 3), (2, 3).\n",
    "Различных сочетаний три, поэтому C(3, 2) = 3.\n",
    "\n",
    "Несложно понять, что C(n, 0) = 1, так как из n элементов выбрать 0 можно единственным образом, а именно, ничего не выбрать.\n",
    "Также несложно понять, что если k > n, то C(n, k) = 0, так как невозможно, например, из трех элементов выбрать пять.\n",
    "\n",
    "Для вычисления C(n, k) в других случаях используется следующая рекуррентная формула: \n",
    "C(n, k) = C(n - 1, k) + C(n - 1, k - 1).\n",
    "\n",
    "Реализуйте программу, которая для заданных n и k вычисляет C(n, k).\n",
    "\n",
    "Вашей программе на вход подается строка, содержащая два целых числа n и k (1 ≤ n ≤ 10, 0 ≤ k ≤ 10).\n",
    "Ваша программа должна вывести единственное число: C(n, k).\n",
    "\n",
    "Примечание:\n",
    "Считать два числа n и k вы можете, например, следующим образом:\n",
    "\n",
    "n, k = map(int, input().split())\n",
    "\n",
    "Sample Input 1:\n",
    "3 2\n",
    "\n",
    "Sample Output 1:\n",
    "3\n",
    "\n",
    "Sample Input 2:\n",
    "10 5\n",
    "\n",
    "Sample Output 2:\n",
    "252"
   ]
  },
  {
   "cell_type": "code",
   "execution_count": null,
   "metadata": {},
   "outputs": [],
   "source": [
    "#мое\n",
    "\n",
    "def Cnk(n, k):\n",
    "    if k == 0:\n",
    "        return 1\n",
    "    elif k > n:\n",
    "        return 0\n",
    "    else:\n",
    "        return(Cnk(n - 1, k) + Cnk(n - 1, k - 1))\n",
    "        \n",
    "n, k = map(int, input().split())\n",
    "print(Cnk(n,k))"
   ]
  },
  {
   "cell_type": "code",
   "execution_count": null,
   "metadata": {},
   "outputs": [],
   "source": [
    "#от модератора, эффективное решение - все значение считаются лишь раз\n",
    "\n",
    "n, k = map(int, input().split())\n",
    "\n",
    "sz = max(n, k) + 1\n",
    "c = [[0] * sz for _ in range(sz)]\n",
    "\n",
    "c[0][0] = 1\n",
    "for i in range(1, sz):\n",
    "    for j in range(i + 1):\n",
    "        c[i][j] = c[i - 1][j] + c[i - 1][j - 1]\n",
    "\n",
    "print(c[n][k])"
   ]
  },
  {
   "cell_type": "code",
   "execution_count": null,
   "metadata": {},
   "outputs": [],
   "source": [
    "#чужое, по ф-ле с факториалами\n",
    "\n",
    "from math import factorial \n",
    "\n",
    "n, k = map(int, input().split())\n",
    "\n",
    "u=(factorial(n))/(factorial(k)*factorial(n-k))\n",
    "print(int(u))"
   ]
  },
  {
   "cell_type": "code",
   "execution_count": null,
   "metadata": {},
   "outputs": [],
   "source": [
    "#чужое, компактное\n",
    "\n",
    "def cnk(n, k):\n",
    "    return cnk(n - 1, k) + cnk(n - 1, k - 1) if k != 0 and k <= n else  1 if k == 0 else  0\n",
    "\n",
    "print(cnk(*map(int, input().split())))"
   ]
  },
  {
   "cell_type": "code",
   "execution_count": null,
   "metadata": {},
   "outputs": [],
   "source": [
    "#чужое, эзотерическое\n",
    "\n",
    "z = 6114516049891188342494954894200636178633190739088960143967354092901105665\n",
    "n,k = map(int, input().split())\n",
    "print(((z>>((n)*22))& 4194303)//((z>>((k)*22))& 4194303)//((z>>((n-k)*22))& 4194303))"
   ]
  },
  {
   "cell_type": "code",
   "execution_count": null,
   "metadata": {},
   "outputs": [],
   "source": [
    "#чужое, эффективное - через словарь известных решений\n",
    "\n",
    "from functools import lru_cache\n",
    "\n",
    "@lru_cache()\n",
    "def c(n, k):\n",
    "    if k == 0:\n",
    "        return 1\n",
    "    if k > n:\n",
    "        return 0\n",
    "    return c(n-1, k) + c(n-1, k-1)\n",
    "\n",
    "n, k = map(int, input().split())\n",
    "print( c(n,k) )"
   ]
  },
  {
   "cell_type": "code",
   "execution_count": null,
   "metadata": {},
   "outputs": [],
   "source": [
    "#чужое, через стандартную библиотеку\n",
    "\n",
    "from itertools import combinations\n",
    "n, k = map(int, input().split())\n",
    "print(sum(1 for _ in combinations(range(n), k)))"
   ]
  },
  {
   "cell_type": "code",
   "execution_count": null,
   "metadata": {},
   "outputs": [],
   "source": [
    "#чужое\n",
    "\n",
    "def comb(n, k):\n",
    "    if n == k or k == 0:\n",
    "        return 1\n",
    "    else:\n",
    "        return comb(n - 1, k) + comb(n - 1, k - 1)\n",
    "    \n",
    "print(comb(*(map(int, input().split()))))"
   ]
  }
 ],
 "metadata": {
  "kernelspec": {
   "display_name": "Python 3",
   "language": "python",
   "name": "python3"
  },
  "language_info": {
   "codemirror_mode": {
    "name": "ipython",
    "version": 3
   },
   "file_extension": ".py",
   "mimetype": "text/x-python",
   "name": "python",
   "nbconvert_exporter": "python",
   "pygments_lexer": "ipython3",
   "version": "3.6.1"
  }
 },
 "nbformat": 4,
 "nbformat_minor": 2
}
