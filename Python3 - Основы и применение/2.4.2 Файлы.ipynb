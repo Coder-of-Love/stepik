{
 "cells": [
  {
   "cell_type": "markdown",
   "metadata": {},
   "source": [
    "Вам дана в архиве файловая структура, состоящая из директорий и файлов.\n",
    "\n",
    "Вам необходимо распаковать этот архив, и затем найти в данной в файловой структуре все директории, в которых есть хотя бы один файл с расширением \".py\". \n",
    "\n",
    "Ответом на данную задачу будет являться файл со списком таких директорий, отсортированных в лексикографическом порядке."
   ]
  },
  {
   "cell_type": "code",
   "execution_count": null,
   "metadata": {},
   "outputs": [],
   "source": [
    "#мое\n",
    "\n",
    "import os\n",
    "print(os.getcwd())\n",
    "pydirs = []\n",
    "for cd, d, f in os.walk(\"./main\"):\n",
    "    for file in f:\n",
    "        if file.endswith('.py'):\n",
    "            pydirs.append(cd)\n",
    "            break\n",
    "        \n",
    "for i, item in enumerate(pydirs):\n",
    "    pydirs[i] = item[2:]\n",
    "    \n",
    "open(\"pydirs.txt\", 'w').write(\"\\n\".join(pydirs))"
   ]
  },
  {
   "cell_type": "code",
   "execution_count": null,
   "metadata": {},
   "outputs": [],
   "source": [
    "#чужое, самое популярное, самое прекрасное\n",
    "\n",
    "import os\n",
    "\n",
    "result = [cur_dir for cur_dir, dirs, files in os.walk(\"main\") if any((fl.endswith(\".py\")\n",
    "    for fl in files))]\n",
    "\n",
    "with open(\"py_dirs.txt\", \"w\") as w:\n",
    "    w.write(\"\\n\".join(sorted(result)))"
   ]
  },
  {
   "cell_type": "code",
   "execution_count": null,
   "metadata": {},
   "outputs": [],
   "source": [
    "#чужое, минималистичное\n",
    "\n",
    "import os\n",
    "for i in sorted(d for d, _, files in os.walk(\"main\") if any(f[-3:] == \".py\" for f in files)):\n",
    "    print(i)"
   ]
  },
  {
   "cell_type": "code",
   "execution_count": null,
   "metadata": {},
   "outputs": [],
   "source": [
    "#от модератора\n",
    "\n",
    "import os\n",
    "\n",
    "for cur_dir, subdirs, files in os.walk(\"main\"):\n",
    "    for file in files:\n",
    "        if file.endswith(\".py\"):\n",
    "            print(cur_dir)\n",
    "            break"
   ]
  }
 ],
 "metadata": {
  "kernelspec": {
   "display_name": "Python 3",
   "language": "python",
   "name": "python3"
  },
  "language_info": {
   "codemirror_mode": {
    "name": "ipython",
    "version": 3
   },
   "file_extension": ".py",
   "mimetype": "text/x-python",
   "name": "python",
   "nbconvert_exporter": "python",
   "pygments_lexer": "ipython3",
   "version": "3.6.1"
  }
 },
 "nbformat": 4,
 "nbformat_minor": 2
}
