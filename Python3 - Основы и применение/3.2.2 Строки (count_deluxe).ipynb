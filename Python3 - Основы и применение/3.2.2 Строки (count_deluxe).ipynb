{
 "cells": [
  {
   "cell_type": "markdown",
   "metadata": {},
   "source": [
    "Вашей программе на вход подаются две строки s и t, состоящие из строчных латинских букв.\n",
    "\n",
    "Выведите одно число – количество вхождений строки t в строку s.\n",
    "\n",
    "Sample Input 1:\n",
    "abababa\n",
    "aba\n",
    "Sample Output 1:\n",
    "3\n",
    "\n",
    "Sample Input 2:\n",
    "abababa\n",
    "abc\n",
    "Sample Output 2:\n",
    "0\n",
    "\n",
    "Sample Input 3:\n",
    "abc\n",
    "abc\n",
    "Sample Output 3:\n",
    "1\n",
    "\n",
    "Sample Input 4:\n",
    "aaaaa\n",
    "a\n",
    "Sample Output 4:\n",
    "5"
   ]
  },
  {
   "cell_type": "code",
   "execution_count": null,
   "metadata": {},
   "outputs": [],
   "source": [
    "#мое\n",
    "\n",
    "def count_deluxe(s, a):\n",
    "    if a not in s: return 0\n",
    "    ts = s\n",
    "    c = 0\n",
    "    while len(ts):\n",
    "        if ts.startswith(a): c += 1\n",
    "        ts = ts.replace(ts[0], \"\", 1)\n",
    "    return c\n",
    "\n",
    "s, a = input(), input()\n",
    "print(count_deluxe(s, a))"
   ]
  },
  {
   "cell_type": "code",
   "execution_count": null,
   "metadata": {},
   "outputs": [],
   "source": [
    "#от модератора\n",
    "\n",
    "s = input()\n",
    "t = input()\n",
    "ans = 0\n",
    "for i in range(len(s)):\n",
    "    if s[i:].startswith(t):\n",
    "        ans += 1\n",
    "\n",
    "print(ans)"
   ]
  },
  {
   "cell_type": "code",
   "execution_count": null,
   "metadata": {},
   "outputs": [],
   "source": [
    "#чужое, прекрасное\n",
    "\n",
    "s = input()\n",
    "t = input()\n",
    "\n",
    "print(sum(1 for i in range(len(s)) if s.startswith(t, i)))"
   ]
  },
  {
   "cell_type": "code",
   "execution_count": null,
   "metadata": {},
   "outputs": [],
   "source": [
    "#чужое, через регулярные выражения\n",
    "\n",
    "import re\n",
    "s, t = input(), '(?=' + input() + ')'\n",
    "print(len(re.findall(t, s)))"
   ]
  },
  {
   "cell_type": "code",
   "execution_count": null,
   "metadata": {},
   "outputs": [],
   "source": [
    "#чужое, через генератор\n",
    "\n",
    "s, t = input(), input()\n",
    "\n",
    "def indexer(s, t):\n",
    "    index = 0\n",
    "    while True:\n",
    "        pos = s.find(t, index)\n",
    "        if pos == -1:\n",
    "            return\n",
    "        index = pos + 1\n",
    "        yield pos\n",
    "\n",
    "print(len(list(indexer(s, t))))"
   ]
  },
  {
   "cell_type": "code",
   "execution_count": null,
   "metadata": {},
   "outputs": [],
   "source": [
    "#чужое, рекурсивное\n",
    "\n",
    "def cross_count(s, t):\n",
    "    try:\n",
    "        return 1 + cross_count(s[s.index(t)+1:], t)\n",
    "    except (ValueError, IndexError):\n",
    "        return 0\n",
    "\n",
    "print(cross_count(input(), input()))"
   ]
  }
 ],
 "metadata": {
  "kernelspec": {
   "display_name": "Python 3",
   "language": "python",
   "name": "python3"
  },
  "language_info": {
   "codemirror_mode": {
    "name": "ipython",
    "version": 3
   },
   "file_extension": ".py",
   "mimetype": "text/x-python",
   "name": "python",
   "nbconvert_exporter": "python",
   "pygments_lexer": "ipython3",
   "version": "3.6.1"
  }
 },
 "nbformat": 4,
 "nbformat_minor": 2
}
