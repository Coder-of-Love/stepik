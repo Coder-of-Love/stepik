{
 "cells": [
  {
   "cell_type": "code",
   "execution_count": 1,
   "metadata": {},
   "outputs": [
    {
     "name": "stdout",
     "output_type": "stream",
     "text": [
      "['arg1', 'arg2', 'foo']\n"
     ]
    }
   ],
   "source": [
    "a = []\n",
    "\n",
    "def foo(arg1, arg2):\n",
    "    a.append(\"foo\")\n",
    "\n",
    "foo(a.append(\"arg1\"), a.append(\"arg2\"))\n",
    "\n",
    "print(a)"
   ]
  },
  {
   "cell_type": "code",
   "execution_count": 3,
   "metadata": {},
   "outputs": [
    {
     "name": "stdout",
     "output_type": "stream",
     "text": [
      "\n",
      "MODULE\n",
      "- g -  <function f at 0x00000088E702ED08>\n",
      "- f\n",
      "- g -  <function h at 0x00000088E702E8C8>\n",
      "- h\n",
      "- 12\n",
      "h - end\n",
      "g - end\n",
      "f - end\n",
      "g - end\n"
     ]
    }
   ],
   "source": [
    "def h():\n",
    "    print(\"- h\")\n",
    "    print(\"- 12\")\n",
    "    print(\"h - end\")\n",
    "\n",
    "def f():\n",
    "    print(\"- f\")\n",
    "    g(h)\n",
    "    print(\"f - end\")\n",
    "\n",
    "def g(a):\n",
    "    print(\"- g - \",a)\n",
    "    a()\n",
    "    print(\"g - end\")\n",
    "\n",
    "print(\"\\nMODULE\")\n",
    "g(f)"
   ]
  },
  {
   "cell_type": "code",
   "execution_count": 24,
   "metadata": {},
   "outputs": [
    {
     "name": "stdout",
     "output_type": "stream",
     "text": [
      "arg1\n",
      "4\n",
      "\n",
      "b\n",
      "a\n",
      "\n",
      "list1\n",
      "list2\n",
      "\n",
      "a\n",
      "b\n",
      "\n",
      "dict1\n",
      "dict2\n",
      "\n"
     ]
    },
    {
     "ename": "TypeError",
     "evalue": "printab() got an unexpected keyword argument 'key1'",
     "output_type": "error",
     "traceback": [
      "\u001b[1;31m---------------------------------------------------------------------------\u001b[0m",
      "\u001b[1;31mTypeError\u001b[0m                                 Traceback (most recent call last)",
      "\u001b[1;32m<ipython-input-24-7041587b8f43>\u001b[0m in \u001b[0;36m<module>\u001b[1;34m\u001b[0m\n\u001b[0;32m     13\u001b[0m \u001b[0mprintab\u001b[0m\u001b[1;33m(\u001b[0m\u001b[1;33m*\u001b[0m\u001b[0md1\u001b[0m\u001b[1;33m)\u001b[0m\u001b[1;33m\u001b[0m\u001b[0m\n\u001b[0;32m     14\u001b[0m \u001b[0mprintab\u001b[0m\u001b[1;33m(\u001b[0m\u001b[1;33m**\u001b[0m\u001b[0md1\u001b[0m\u001b[1;33m)\u001b[0m\u001b[1;33m\u001b[0m\u001b[0m\n\u001b[1;32m---> 15\u001b[1;33m \u001b[0mprintab\u001b[0m\u001b[1;33m(\u001b[0m\u001b[1;33m**\u001b[0m\u001b[0md2\u001b[0m\u001b[1;33m)\u001b[0m\u001b[1;33m\u001b[0m\u001b[0m\n\u001b[0m",
      "\u001b[1;31mTypeError\u001b[0m: printab() got an unexpected keyword argument 'key1'"
     ]
    }
   ],
   "source": [
    "def printab(a, b):\n",
    "    print(a)\n",
    "    print(b)\n",
    "    print()\n",
    "    \n",
    "l = [\"list1\", \"list2\"]\n",
    "d1 = {'a' : \"dict1\", 'b' : \"dict2\"}\n",
    "d2 = {'key1' : 3, 'b' : 4}\n",
    "\n",
    "printab(\"arg1\", 4)\n",
    "printab(b = 'a', a = 'b')\n",
    "printab(*l)\n",
    "printab(*d1)\n",
    "printab(**d1)\n",
    "printab(**d2)"
   ]
  },
  {
   "cell_type": "code",
   "execution_count": 28,
   "metadata": {},
   "outputs": [
    {
     "name": "stdout",
     "output_type": "stream",
     "text": [
      "41 31 31 41 31 31 31\n"
     ]
    }
   ],
   "source": [
    "def s(a, *vs, b=10):\n",
    "    res = a + b\n",
    "    for v in vs:\n",
    "        res += v\n",
    "    return res\n",
    "\n",
    "print(s(0, 0, 31),\n",
    "#    s(b=31, 0)\n",
    "    s(21),\n",
    "    s(11, 10, b=10),\n",
    "    s(11, 10, 10),\n",
    "    s(5, 5, 5, 5, 1),\n",
    "    s(11, b=20),\n",
    "#    s(b=31)\n",
    "    s(11, 10))"
   ]
  },
  {
   "cell_type": "code",
   "execution_count": null,
   "metadata": {},
   "outputs": [],
   "source": []
  }
 ],
 "metadata": {
  "kernelspec": {
   "display_name": "Python 3",
   "language": "python",
   "name": "python3"
  },
  "language_info": {
   "codemirror_mode": {
    "name": "ipython",
    "version": 3
   },
   "file_extension": ".py",
   "mimetype": "text/x-python",
   "name": "python",
   "nbconvert_exporter": "python",
   "pygments_lexer": "ipython3",
   "version": "3.6.1"
  }
 },
 "nbformat": 4,
 "nbformat_minor": 2
}
