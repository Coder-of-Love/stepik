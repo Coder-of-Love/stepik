{
 "cells": [
  {
   "cell_type": "code",
   "execution_count": 26,
   "metadata": {},
   "outputs": [],
   "source": [
    "# Мета-символы: . ^ $ * + & { } [ ] \\ | ( )\n",
    "# . - любой символ\n",
    "# ^ - символ после ^ не допускается\n",
    "# * - сивол перед встречается любое число раз, в т.ч. 0\n",
    "# + - символ перед должен встречаться хотя бы раз\n",
    "# ? - символ перед встречается не больше раза\n",
    "# {n} - символ перед повторяется n раз\n",
    "# {k, n} - символ перед повторяется от k до n раз\n",
    "# () - используются для группировки символов и меты\n",
    "# | - ИЛИ\n",
    "# [] - множество подходящих символов\n",
    "# \\d ~ [0-9]\n",
    "# \\D ~ [^0-9]\n",
    "# \\s ~ [' ' \\t \\n \\r \\f \\v]\n",
    "# \\S ~ [^' ' \\t \\n \\r \\f \\v]\n",
    "# \\w ~ [a-zA-Z0-9_]\n",
    "# \\W ~ [^a-zA-Z0-9_]\n",
    "\n",
    "import re"
   ]
  },
  {
   "cell_type": "code",
   "execution_count": 30,
   "metadata": {},
   "outputs": [
    {
     "name": "stdout",
     "output_type": "stream",
     "text": [
      "<re.Match object; span=(0, 3), match='abc'>\n",
      "None\n",
      "None\n",
      "<re.Match object; span=(1, 4), match='abc'>\n",
      "None\n"
     ]
    }
   ],
   "source": [
    "# match в некотором смысле похож на startswith\n",
    "pattern = r\"abc\"\n",
    "\n",
    "string = \"abcd\"\n",
    "match_object = re.match(pattern=pattern, string=string) # Строка подходит под паттер\n",
    "print(match_object)\n",
    "\n",
    "string = \"abdc\"\n",
    "match_object = re.match(pattern=pattern, string=string) # Строка не подходит под паттерн\n",
    "print(match_object)\n",
    "\n",
    "string = \"bab\"\n",
    "match_object = re.match(pattern=pattern, string=string) # Строка не подходит под паттерн\n",
    "print(match_object)\n",
    "\n",
    "string = \"babc\"\n",
    "match_object = re.search(pattern=pattern, string=string) # Паттерн встречается в строке, с 1-й позиции по 4-ю\n",
    "print(match_object)\n",
    "\n",
    "string = \"abd\"\n",
    "match_object = re.search(pattern=pattern, string=string) # Паттерн не встречается в строке\n",
    "print(match_object)"
   ]
  },
  {
   "cell_type": "code",
   "execution_count": 35,
   "metadata": {},
   "outputs": [
    {
     "name": "stdout",
     "output_type": "stream",
     "text": [
      "<re.Match object; span=(0, 6), match='abaaba'>\n"
     ]
    }
   ],
   "source": [
    "# match - жадный, т.е. старается вернуть максимально длинную строку\n",
    "pattern = r\"a[ab]*a\"\n",
    "string = \"abaaba\"\n",
    "\n",
    "print(re.match(pattern, string))"
   ]
  },
  {
   "cell_type": "code",
   "execution_count": 22,
   "metadata": {},
   "outputs": [
    {
     "name": "stdout",
     "output_type": "stream",
     "text": [
      "<re.Match object; span=(0, 3), match='abc'>\n",
      "<re.Match object; span=(0, 3), match='aac'>\n",
      "<re.Match object; span=(0, 3), match='aXc'>\n",
      "<re.Match object; span=(1, 4), match='abc'>\n",
      "<re.Match object; span=(1, 4), match='aac'>\n",
      "\n",
      " <re.Match object; span=(8, 11), match='a.c'>\n"
     ]
    }
   ],
   "source": [
    "# Допустимые и недопустимые символы\n",
    "pattern = r\"a[a-zA-Z]c\"\n",
    "\n",
    "print(re.search(pattern, \"abc\"))\n",
    "print(re.search(pattern, \"aac\"))\n",
    "print(re.search(pattern, \"aXc\"))\n",
    "print(re.search(pattern, \"aabc\"))\n",
    "print(re.search(pattern, \"aaacbc\"))\n",
    "\n",
    "pattern = r\"a[^a-zA-Z]c\"\n",
    "\n",
    "print('\\n', re.search(pattern, \"aac abc a.c aZc a-c\"))"
   ]
  },
  {
   "cell_type": "code",
   "execution_count": 24,
   "metadata": {},
   "outputs": [
    {
     "name": "stdout",
     "output_type": "stream",
     "text": [
      "['abc', 'aac', 'acc', 'acc', 'aac']\n",
      "abc, abc, abc, aaabbcabcabc\n"
     ]
    }
   ],
   "source": [
    "pattern = r\"a.c\"\n",
    "string = \"abc, aac, acc, aaabbcaccaac\"\n",
    "\n",
    "all_inclusions = re.findall(pattern, string) # Все вхождения паттерна в строке\n",
    "print(all_inclusions)\n",
    "\n",
    "sub = \"abc\"\n",
    "fixed_typos = re.sub(pattern, sub, string) # Подстановка строки sub в string в местах вхождения шаблона\n",
    "print(fixed_typos)"
   ]
  },
  {
   "cell_type": "code",
   "execution_count": 28,
   "metadata": {
    "scrolled": true
   },
   "outputs": [
    {
     "name": "stdout",
     "output_type": "stream",
     "text": [
      "['aa', 'aba', 'abba']\n"
     ]
    }
   ],
   "source": [
    "pattern = r\"ab*a\"\n",
    "string = \"aa, aba, abba\"\n",
    "\n",
    "all_inclusions = re.findall(pattern, string)\n",
    "print(all_inclusions)"
   ]
  },
  {
   "cell_type": "code",
   "execution_count": 42,
   "metadata": {},
   "outputs": [
    {
     "name": "stdout",
     "output_type": "stream",
     "text": [
      "<re.Match object; span=(0, 8), match='testtext'>\n",
      "('testtext', None, 'text')\n",
      "<re.Match object; span=(0, 9), match='Hello abc'>\n",
      "Hello abc\n",
      "abc\n"
     ]
    }
   ],
   "source": [
    "pattern = r\"((abc)|(test|text)*)\"\n",
    "string = \"testtext\"\n",
    "\n",
    "match = re.match(pattern, string)\n",
    "print(match)\n",
    "print(match.groups())\n",
    "\n",
    "pattern = r\"Hello (abc|test)\"\n",
    "string = \"Hello abc\"\n",
    "match = re.match(pattern, string)\n",
    "print(match)\n",
    "print(match.group(0), match.group(1), sep='\\n')"
   ]
  },
  {
   "cell_type": "code",
   "execution_count": 65,
   "metadata": {},
   "outputs": [
    {
     "name": "stdout",
     "output_type": "stream",
     "text": [
      "<re.Match object; span=(0, 9), match='test-test'>\n",
      "('test-test', 'test')\n",
      "[('test-test', 'test'), ('chow-chow', 'chow')]\n"
     ]
    }
   ],
   "source": [
    "pattern = r\"((\\w+)-\\2)\"\n",
    "string = \"test-test chow-chow\"\n",
    "\n",
    "match = re.match(pattern, string)\n",
    "print(match, match.groups(), sep='\\n')\n",
    "#duplicates = re.sub(pattern, r\"\\1\", string)\n",
    "duplicates = re.findall(pattern, string)\n",
    "print(duplicates)"
   ]
  },
  {
   "cell_type": "code",
   "execution_count": 68,
   "metadata": {},
   "outputs": [
    {
     "name": "stdout",
     "output_type": "stream",
     "text": [
      "None\n",
      "MAX_REPEAT 0 MAXREPEAT\n",
      "  SUBPATTERN 1 0 0\n",
      "    LITERAL 116\n",
      "    LITERAL 101\n",
      "LITERAL 120\n",
      "LITERAL 116\n",
      "\n",
      " 0. INFO 4 0b0 2 MAXREPEAT (to 5)\n",
      " 5: REPEAT 11 0 MAXREPEAT (to 17)\n",
      " 9.   MARK 0\n",
      "11.   LITERAL_UNI_IGNORE 0x74 ('t')\n",
      "13.   LITERAL_UNI_IGNORE 0x65 ('e')\n",
      "15.   MARK 1\n",
      "17: MAX_UNTIL\n",
      "18. LITERAL_UNI_IGNORE 0x78 ('x')\n",
      "20. LITERAL_UNI_IGNORE 0x74 ('t')\n",
      "22. SUCCESS\n",
      "<re.Match object; span=(0, 4), match='TEXT'>\n"
     ]
    }
   ],
   "source": [
    "print(re.match(r\"text\", \"TEXT\"))\n",
    "print(re.match(r\"(te)*xt\", \"TEXT\", re.IGNORECASE | re.DEBUG))"
   ]
  }
 ],
 "metadata": {
  "kernelspec": {
   "display_name": "Python 3",
   "language": "python",
   "name": "python3"
  },
  "language_info": {
   "codemirror_mode": {
    "name": "ipython",
    "version": 3
   },
   "file_extension": ".py",
   "mimetype": "text/x-python",
   "name": "python",
   "nbconvert_exporter": "python",
   "pygments_lexer": "ipython3",
   "version": "3.7.3"
  }
 },
 "nbformat": 4,
 "nbformat_minor": 2
}
