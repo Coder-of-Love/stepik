{
 "cells": [
  {
   "cell_type": "markdown",
   "metadata": {},
   "source": [
    "Вам дана последовательность строк.\n",
    "Выведите строки, содержащие слово, состоящее из двух одинаковых частей (тандемный повтор).\n",
    "\n",
    "Sample Input:\n",
    "blabla is a tandem repetition\n",
    "123123 is good too\n",
    "go go\n",
    "aaa\n",
    "\n",
    "Sample Output:\n",
    "blabla is a tandem repetition\n",
    "123123 is good too"
   ]
  },
  {
   "cell_type": "code",
   "execution_count": 1,
   "metadata": {},
   "outputs": [],
   "source": [
    "# мое\n",
    "\n",
    "import sys\n",
    "import re\n",
    "\n",
    "\n",
    "for line in sys.stdin:\n",
    "    line = line.rstrip()\n",
    "    if re.search(r\"\\b((\\w)+)\\1\\b\", line):\n",
    "        print(line)"
   ]
  },
  {
   "cell_type": "code",
   "execution_count": 2,
   "metadata": {},
   "outputs": [],
   "source": [
    "# чужое, неоптимальное\n",
    "\n",
    "import re, sys\n",
    "\n",
    "for line in sys.stdin:\n",
    "    line = line.rstrip()\n",
    "    anList = line.split(' ')\n",
    "    for i in range(len(anList)):\n",
    "        word = anList[i]\n",
    "        if len(word) % 2 == 0:\n",
    "            k = int(len(word)/2)\n",
    "            word = word[0:k]\n",
    "            pattern = re.compile(r\"\\b{}\\b\".format(word + word))\n",
    "            asd = re.findall(pattern, line)\n",
    "            if len(asd) > 0:\n",
    "                print(line)\n",
    "                break"
   ]
  }
 ],
 "metadata": {
  "kernelspec": {
   "display_name": "Python 3",
   "language": "python",
   "name": "python3"
  },
  "language_info": {
   "codemirror_mode": {
    "name": "ipython",
    "version": 3
   },
   "file_extension": ".py",
   "mimetype": "text/x-python",
   "name": "python",
   "nbconvert_exporter": "python",
   "pygments_lexer": "ipython3",
   "version": "3.7.3"
  }
 },
 "nbformat": 4,
 "nbformat_minor": 2
}
