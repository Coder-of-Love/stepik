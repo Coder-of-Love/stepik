{
 "cells": [
  {
   "cell_type": "code",
   "execution_count": null,
   "metadata": {},
   "outputs": [],
   "source": [
    "x = 10\n",
    "y = x\n",
    "\n",
    "print(x is y)     #true\n",
    "print(y is x)     #true\n",
    "print(y is 5)     #false\n",
    "print(y is 10)    #true\n",
    "print([1] is [1]) #false\n",
    "print(1 is 1)     #true"
   ]
  },
  {
   "cell_type": "code",
   "execution_count": null,
   "metadata": {},
   "outputs": [],
   "source": [
    "x = [1, 2, 3]\n",
    "y = x\n",
    "\n",
    "print(y is x)                 #true\n",
    "print(y is [1, 2, 3])         #false\n",
    "print(x is [1, 2, 3])         #false\n",
    "print([1, 2, 3] is [1, 2, 3]) #false"
   ]
  },
  {
   "cell_type": "code",
   "execution_count": null,
   "metadata": {},
   "outputs": [],
   "source": [
    "x = [1, 2, 3]\n",
    "y = [1, 2, 3]\n",
    "\n",
    "x[0] = 0\n",
    "\n",
    "print(x[0] is 0)    #true\n",
    "print(x[0] is x)    #false\n",
    "print(y is x)       #false\n",
    "print(y[0] is 1)    #true\n",
    "print(y[0] is 0)    #false\n",
    "print(y[0] is x[0]) #false"
   ]
  },
  {
   "cell_type": "code",
   "execution_count": null,
   "metadata": {},
   "outputs": [],
   "source": [
    "x = [1, 2, 3]\n",
    "y = x\n",
    "\n",
    "x[0] = 0\n",
    "\n",
    "print(x[0] is 0)    #true\n",
    "print(x[0] is x)    #false\n",
    "print(y is x)       #true\n",
    "print(y[0] is 1)    #false\n",
    "print(y[0] is 0)    #true\n",
    "print(y[0] is x[0]) #true"
   ]
  },
  {
   "cell_type": "code",
   "execution_count": null,
   "metadata": {},
   "outputs": [],
   "source": [
    "x = [1, 2, 3]\n",
    "\n",
    "print(id(x))\n",
    "print(id(x[0]))"
   ]
  },
  {
   "cell_type": "code",
   "execution_count": null,
   "metadata": {},
   "outputs": [],
   "source": [
    "x = 10\n",
    "\n",
    "print(id(x))\n",
    "print(id(10))"
   ]
  },
  {
   "cell_type": "code",
   "execution_count": null,
   "metadata": {},
   "outputs": [],
   "source": [
    "x = 100000000000000000000000000000\n",
    "\n",
    "print(id(x))\n",
    "print(id(100000000000000000000000000000))"
   ]
  },
  {
   "cell_type": "code",
   "execution_count": null,
   "metadata": {},
   "outputs": [],
   "source": [
    "x = [1, 2, 3]\n",
    "y = x\n",
    "y.append(4)\n",
    "\n",
    "s = \"123\"\n",
    "t = s\n",
    "t = t + \"4\"\n",
    "\n",
    "print(str(x) + \" \" + s)"
   ]
  },
  {
   "cell_type": "code",
   "execution_count": null,
   "metadata": {},
   "outputs": [],
   "source": []
  }
 ],
 "metadata": {
  "kernelspec": {
   "display_name": "Python 3",
   "language": "python",
   "name": "python3"
  },
  "language_info": {
   "codemirror_mode": {
    "name": "ipython",
    "version": 3
   },
   "file_extension": ".py",
   "mimetype": "text/x-python",
   "name": "python",
   "nbconvert_exporter": "python",
   "pygments_lexer": "ipython3",
   "version": "3.6.1"
  }
 },
 "nbformat": 4,
 "nbformat_minor": 2
}
