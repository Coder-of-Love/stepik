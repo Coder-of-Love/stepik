{
 "cells": [
  {
   "cell_type": "markdown",
   "metadata": {},
   "source": [
    "Вам дана последовательность строк.\n",
    "Выведите строки, содержащие две буквы \"z\", между которыми ровно три символа.\n",
    "\n",
    "Sample Input:\n",
    "zabcz\n",
    "zzz\n",
    "zzxzz\n",
    "zz\n",
    "zxz\n",
    "zzxzxxz\n",
    "\n",
    "Sample Output:\n",
    "zabcz\n",
    "zzxzz"
   ]
  },
  {
   "cell_type": "code",
   "execution_count": 1,
   "metadata": {},
   "outputs": [],
   "source": [
    "import sys\n",
    "import re\n",
    "\n",
    "\n",
    "for line in sys.stdin:\n",
    "    line = line.rstrip()\n",
    "    if re.search(r\"z.{3}z\", line):\n",
    "        print(line)"
   ]
  }
 ],
 "metadata": {
  "kernelspec": {
   "display_name": "Python 3",
   "language": "python",
   "name": "python3"
  },
  "language_info": {
   "codemirror_mode": {
    "name": "ipython",
    "version": 3
   },
   "file_extension": ".py",
   "mimetype": "text/x-python",
   "name": "python",
   "nbconvert_exporter": "python",
   "pygments_lexer": "ipython3",
   "version": "3.7.3"
  }
 },
 "nbformat": 4,
 "nbformat_minor": 2
}
