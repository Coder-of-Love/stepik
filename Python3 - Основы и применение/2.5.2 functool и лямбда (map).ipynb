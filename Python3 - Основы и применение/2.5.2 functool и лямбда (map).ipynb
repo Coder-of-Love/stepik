{
 "cells": [
  {
   "cell_type": "code",
   "execution_count": 5,
   "metadata": {},
   "outputs": [
    {
     "name": "stdout",
     "output_type": "stream",
     "text": [
      "-5 5\n",
      "0\n"
     ]
    }
   ],
   "source": [
    "n, k = map(int, input().split())\n",
    "print(n + k)"
   ]
  },
  {
   "cell_type": "code",
   "execution_count": 6,
   "metadata": {},
   "outputs": [
    {
     "name": "stdout",
     "output_type": "stream",
     "text": [
      "-5 6\n",
      "['-5', '6']\n",
      "1\n"
     ]
    }
   ],
   "source": [
    "x = input().split()\n",
    "print(x)\n",
    "n, k = map(int, x)\n",
    "print(n + k)"
   ]
  },
  {
   "cell_type": "code",
   "execution_count": 8,
   "metadata": {},
   "outputs": [
    {
     "name": "stdout",
     "output_type": "stream",
     "text": [
      "-5 8\n",
      "['-5', '8']\n",
      "<map object at 0x00000022A2FAA908>\n",
      "3\n"
     ]
    }
   ],
   "source": [
    "x = input().split()\n",
    "print(x)\n",
    "map_obj = map(int, x)\n",
    "print(map_obj)\n",
    "n = next(map_obj)\n",
    "k = next(map_obj)\n",
    "print(n + k)"
   ]
  },
  {
   "cell_type": "code",
   "execution_count": 9,
   "metadata": {},
   "outputs": [
    {
     "name": "stdout",
     "output_type": "stream",
     "text": [
      "-5 9\n",
      "['-5', '9']\n",
      "4\n"
     ]
    }
   ],
   "source": [
    "x = input().split()\n",
    "print(x)\n",
    "n, k = (int(i) for i in x)\n",
    "print(n + k)"
   ]
  }
 ],
 "metadata": {
  "kernelspec": {
   "display_name": "Python 3",
   "language": "python",
   "name": "python3"
  },
  "language_info": {
   "codemirror_mode": {
    "name": "ipython",
    "version": 3
   },
   "file_extension": ".py",
   "mimetype": "text/x-python",
   "name": "python",
   "nbconvert_exporter": "python",
   "pygments_lexer": "ipython3",
   "version": "3.6.1"
  }
 },
 "nbformat": 4,
 "nbformat_minor": 2
}
