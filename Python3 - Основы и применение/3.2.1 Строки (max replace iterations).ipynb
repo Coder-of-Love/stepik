{
 "cells": [
  {
   "cell_type": "markdown",
   "metadata": {},
   "source": [
    "Вашей программе на вход подаются три строки s, a, b, состоящие из строчных латинских букв.\n",
    "За одну операцию вы можете заменить все вхождения строки a в строку s на строку b.\n",
    "\n",
    "Например, s = \"abab\", a = \"ab\", b = \"ba\", тогда после выполнения одной операции строка s перейдет в строку \"baba\", после выполнения двух и операций – в строку \"bbaa\", и дальнейшие операции не будут изменять строку s.\n",
    "\n",
    "Необходимо узнать, после какого минимального количества операций в строке s не останется вхождений строки a. Если операций потребуется более 1000, выведите Impossible.\n",
    "\n",
    "Выведите одно число – минимальное число операций, после применения которых в строке s не останется вхождений строки a, или Impossible, если операций потребуется более 1000.\n",
    "\n",
    "Sample Input 1:\n",
    "ababa\n",
    "a\n",
    "b\n",
    "Sample Output 1:\n",
    "1\n",
    "\n",
    "Sample Input 2:\n",
    "ababa\n",
    "b\n",
    "a\n",
    "Sample Output 2:\n",
    "1\n",
    "\n",
    "Sample Input 3:\n",
    "ababa\n",
    "c\n",
    "c\n",
    "Sample Output 3:\n",
    "0\n",
    "\n",
    "Sample Input 4:\n",
    "ababac\n",
    "c\n",
    "c\n",
    "Sample Output 4:\n",
    "Impossible"
   ]
  },
  {
   "cell_type": "code",
   "execution_count": null,
   "metadata": {},
   "outputs": [],
   "source": [
    "#мое\n",
    "\n",
    "def count_times(s, a, b):\n",
    "    if not s.count(a): return 0\n",
    "    if b.count(a): return \"Impossible\"\n",
    "    ts = s\n",
    "    L = 0\n",
    "    while True:\n",
    "        if not ts.count(a): break\n",
    "        ts = ts.replace(a, b)\n",
    "        L += 1\n",
    "    return L\n",
    "\n",
    "#s, a, b = (_ for _ in input().split())\n",
    "s, a, b = (input() for _ in range(3))\n",
    "print(count_times(s, a, b))"
   ]
  },
  {
   "cell_type": "code",
   "execution_count": null,
   "metadata": {},
   "outputs": [],
   "source": [
    "#от модератора\n",
    "\n",
    "s = input()\n",
    "a = input()\n",
    "b = input()\n",
    "\n",
    "if a not in s:\n",
    "    print(0)\n",
    "elif a in b:\n",
    "    print(\"Impossible\")\n",
    "else:\n",
    "    ans = 0\n",
    "    while a in s:\n",
    "        s = s.replace(a, b)\n",
    "        ans += 1\n",
    "\n",
    "    print(ans)"
   ]
  },
  {
   "cell_type": "code",
   "execution_count": null,
   "metadata": {},
   "outputs": [],
   "source": [
    "#чужое, через генераторы, прекрасное\n",
    "\n",
    "s, a, b = (input() for _ in range(3))\n",
    "def repl_gen(s, a, b):\n",
    "    while a in s: s = s.replace(a, b); yield True\n",
    "print('Impossible' if a in b and a in s else sum(repl_gen(s, a, b)))"
   ]
  },
  {
   "cell_type": "code",
   "execution_count": null,
   "metadata": {},
   "outputs": [],
   "source": [
    "#чужое\n",
    "\n",
    "s, a, b, i = [input() for i in range(3)] + [0]  \n",
    "while a in s:\n",
    "    if a in b: i = 'Impossible'; break\n",
    "    s, i = s.replace(a, b), i + 1\n",
    "print(i)"
   ]
  },
  {
   "cell_type": "code",
   "execution_count": null,
   "metadata": {},
   "outputs": [],
   "source": [
    "#чужое, рекурсивное\n",
    "\n",
    "def repl(s, a, b):\n",
    "\tif s.count(a) == 0:\n",
    "\t\treturn 0\n",
    "\treturn 1 + repl(s.replace(a, b), a, b)\n",
    "\n",
    "\n",
    "s = input()\n",
    "a = input()\n",
    "b = input()\n",
    "try:\n",
    "\tprint(repl(s, a, b))\n",
    "except RecursionError:\n",
    "\tprint('Impossible')"
   ]
  }
 ],
 "metadata": {
  "kernelspec": {
   "display_name": "Python 3",
   "language": "python",
   "name": "python3"
  },
  "language_info": {
   "codemirror_mode": {
    "name": "ipython",
    "version": 3
   },
   "file_extension": ".py",
   "mimetype": "text/x-python",
   "name": "python",
   "nbconvert_exporter": "python",
   "pygments_lexer": "ipython3",
   "version": "3.6.1"
  }
 },
 "nbformat": 4,
 "nbformat_minor": 2
}
