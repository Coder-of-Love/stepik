{
 "cells": [
  {
   "cell_type": "code",
   "execution_count": 1,
   "metadata": {},
   "outputs": [
    {
     "name": "stdout",
     "output_type": "stream",
     "text": [
      "10\n",
      "30\n"
     ]
    }
   ],
   "source": [
    "class Base:\n",
    "    def __init__(self):\n",
    "        self.val = 0\n",
    "\n",
    "    def add_one(self):\n",
    "        self.val += 1\n",
    "\n",
    "    def add_many(self, x):\n",
    "        for i in range(x):\n",
    "            self.add_one()\n",
    "\n",
    "class Derived(Base):\n",
    "    def add_one(self):\n",
    "        self.val += 10\n",
    "\n",
    "\n",
    "a = Derived()\n",
    "a.add_one()\n",
    "\n",
    "b = Derived()\n",
    "b.add_many(3)\n",
    "\n",
    "print(a.val)\n",
    "print(b.val)"
   ]
  },
  {
   "cell_type": "code",
   "execution_count": 2,
   "metadata": {},
   "outputs": [
    {
     "name": "stdout",
     "output_type": "stream",
     "text": [
      "C\n"
     ]
    }
   ],
   "source": [
    "class A:\n",
    "   def foo(self):\n",
    "      print(\"A\")\n",
    "\n",
    "class B(A):\n",
    "   pass\n",
    "\n",
    "class C(A):\n",
    "   def foo(self):\n",
    "      print(\"C\")\n",
    "\n",
    "class D:\n",
    "   def foo(self):\n",
    "      print(\"D\")\n",
    "\n",
    "class E(B, C, D):\n",
    "   pass\n",
    "\n",
    "E().foo()"
   ]
  }
 ],
 "metadata": {
  "kernelspec": {
   "display_name": "Python 3",
   "language": "python",
   "name": "python3"
  },
  "language_info": {
   "codemirror_mode": {
    "name": "ipython",
    "version": 3
   },
   "file_extension": ".py",
   "mimetype": "text/x-python",
   "name": "python",
   "nbconvert_exporter": "python",
   "pygments_lexer": "ipython3",
   "version": "3.6.1"
  }
 },
 "nbformat": 4,
 "nbformat_minor": 2
}
